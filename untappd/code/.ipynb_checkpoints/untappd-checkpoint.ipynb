{
 "cells": [
  {
   "cell_type": "code",
   "execution_count": 1,
   "metadata": {},
   "outputs": [],
   "source": [
    "from urllib.request import urlopen\n",
    "import pandas as pd\n",
    "import json\n",
    "import requests\n",
    "from pandas.io.json import json_normalize "
   ]
  },
  {
   "cell_type": "code",
   "execution_count": 2,
   "metadata": {},
   "outputs": [],
   "source": [
    "client_id = '3BA9000EAF1D1AFA9A5F243A6075061EE032EB0D'\n",
    "client_secret = '57B991CB52528E6F4116570B97AA00B3AA04430A'\n",
    "url = 'https://api.untappd.com/v4/{}?client_id={}&client_secret={}'"
   ]
  },
  {
   "cell_type": "code",
   "execution_count": 6,
   "metadata": {},
   "outputs": [],
   "source": [
    "def searchBrewery(id):\n",
    "    url_brewery = 'brewery/info/' + str(id)\n",
    "    url_ = url.format(url_brewery,client_id, client_secret)\n",
    "    brewery = json_normalize(json.loads(urlopen(url_).read().decode()))\n",
    "    beer = json_normalize(brewery['response.brewery.beer_list.items'][0])\n",
    "    brewery_ = beer[['total_count','beer.bid','beer.beer_name',\n",
    "                'beer.beer_label','beer.beer_style','beer.beer_abv',\n",
    "                'beer.beer_ibu','brewery.contact.facebook','brewery.contact.instagram',\n",
    "                'brewery.location.brewery_city','brewery.location.brewery_state',\n",
    "                'brewery.location.lat','brewery.location.lng']].rename({'total_count':'total_checkin',\n",
    "                                                                     'beer.bid': 'id',\n",
    "                                                                     'beer.beer_name' : 'cerveja',\n",
    "                                                                     'beer.beer_label': 'logo',\n",
    "                                                                     'beer.beer_style': 'estilo',\n",
    "                                                                     'beer.beer_abv' : 'abv',\n",
    "                                                                     'beer.beer_ibu' : 'ibu',\n",
    "                                                                     'brewery.contact.facebook' : 'facebook',\n",
    "                                                                     'brewery.contact.instagram' : 'instagram',\n",
    "                                                                     'brewery.location.brewery_city' : 'cidade',\n",
    "                                                                     'brewery.location.brewery_state' : 'uf',\n",
    "                                                                     'brewery.location.lat' : 'latitude',\n",
    "                                                                     'brewery.location.lng' : 'longitude'}, axis=1)\n",
    "    brewery_.insert(0, 'cervejaria', brewery['response.brewery.brewery_name'].loc[0])\n",
    "    brewery_.insert(0, 'url', brewery['response.brewery.brewery_page_url'].loc[0])\n",
    "    brewery_['nota'] = None\n",
    "    return brewery_"
   ]
  },
  {
   "cell_type": "code",
   "execution_count": 106,
   "metadata": {},
   "outputs": [],
   "source": [
    "def searchBreweryFile():\n",
    "    lst_brewery = [278580, 354747, 362211, 383207, 226157]\n",
    "    df = pd.DataFrame()\n",
    "    for i in lst_brewery:\n",
    "        df = df.append(searchBrewery(i))\n",
    "    df.nota = df.id.apply(lambda x: searchBeerRating(x))\n",
    "    df.to_csv(r'data\\brewery.csv')"
   ]
  },
  {
   "cell_type": "code",
   "execution_count": 9,
   "metadata": {},
   "outputs": [],
   "source": [
    "def searchBeerRating(id):\n",
    "    url_beer = 'beer/info/' + str(id)\n",
    "    url_ = url.format(url_beer, client_id, client_secret)\n",
    "    beer = json_normalize(json.loads(urlopen(url_).read().decode()))\n",
    "    return beer['response.beer.weighted_rating_score'].loc[0]"
   ]
  },
  {
   "cell_type": "code",
   "execution_count": 6,
   "metadata": {},
   "outputs": [],
   "source": [
    "def searchBeerCheckIn(id):\n",
    "    def rename(data):        \n",
    "        data = data[['user.uid','user.user_name','user.first_name',\n",
    "            'user.last_name','rating_score','checkin_comment',\n",
    "            'user.location','created_at','user.url',\n",
    "            'user.bio','venue.venue_id','venue.venue_name',\n",
    "            'toasts.total_count','comments.total_count','source.app_name',\n",
    "            'venue.location.venue_city','venue.location.venue_state','venue.location.lat',\n",
    "            'venue.location.lng']].rename({'user.uid': 'id_usuario',\n",
    "                                           'user.user_name': 'usuario',\n",
    "                                           'user.first_name': 'nome',\n",
    "                                           'user.last_name': 'sobrenome',\n",
    "                                           'rating_score': 'nota',\n",
    "                                           'checkin_comment':'comentario',\n",
    "                                           'user.location':'localizacao',\n",
    "                                           'created_at':'data',\n",
    "                                           'user.url':'url_usuario',\n",
    "                                            'user.bio':'biografia',\n",
    "                                           'venue.venue_id': 'local_id',\n",
    "                                           'venue.venue_name':'local_nome',\n",
    "                                            'toasts.total_count': 'total_avaliacao',\n",
    "                                           'comments.total_count': 'total_comentario',\n",
    "                                           'source.app_name':'plataforma',\n",
    "                                            'venue.location.venue_city':'local_cidade',\n",
    "                                           'venue.location.venue_state':'local_uf',\n",
    "                                           'venue.location.lat':'local_lat',\n",
    "                                            'venue.location.lng':'local_lng'}, axis=1)\n",
    "        return data\n",
    "    \n",
    "    url_beer = 'beer/checkins/' + str(id)\n",
    "    url_ = url.format(url_beer, client_id, client_secret)\n",
    "    check = json_normalize(json.loads(urlopen(url_).read().decode()))\n",
    "    \n",
    "    #beer_checkin[['response.pagination.since_url','response.pagination.next_url','response.checkins.count']]\n",
    "    \n",
    "    if len(check['response.checkins.items'][0]) > 0:        \n",
    "        return rename(json_normalize(check['response.checkins.items'][0]))\n",
    "    "
   ]
  },
  {
   "cell_type": "code",
   "execution_count": 107,
   "metadata": {},
   "outputs": [],
   "source": [
    "def searchBeerFile():\n",
    "    df = pd.read_csv(r'data\\brewery.csv')\n",
    "    df_check = pd.DataFrame()\n",
    "    for i, item in df.iterrows():\n",
    "        df_check = df_check.append(searchBeerCheckIn(item.id))\n",
    "        df_check['cerveja_id'] = item.id\n",
    "    df_check.to_csv(r'data\\beer.csv')"
   ]
  },
  {
   "cell_type": "code",
   "execution_count": 18,
   "metadata": {},
   "outputs": [],
   "source": [
    "def searchUser(username):\n",
    "    def rename(data):\n",
    "        data = data[['response.user.uid',\n",
    "                     'response.user.stats.total_checkins','response.user.user_cover_photo',\n",
    "                     'response.user.stats.total_friends','response.user.stats.total_beers',\n",
    "                     'response.user.stats.total_created_beers','response.user.stats.total_followings',\n",
    "                     'response.user.stats.total_photos',\n",
    "                     'response.user.checkins.items']].rename({'response.user.uid':'id_usuario',\n",
    "                                                             'response.user.stats.total_checkins':'total_checkin',\n",
    "                                                             'response.user.user_cover_photo':'foto_capa',\n",
    "                                                             'response.user.stats.total_friends':'total_amigo',\n",
    "                                                             'response.user.stats.total_beers':'total_cerveja',\n",
    "                                                             'response.user.stats.total_created_beers':'total_cerveja_criada',\n",
    "                                                             'response.user.stats.total_followings': 'total_seguidores',\n",
    "                                                             'response.user.stats.total_photos':'total_foto',\n",
    "                                                             'response.user.checkins.items':'checkin_outro'}, axis=1)\n",
    "        return data\n",
    "    \n",
    "    url_beer = 'user/info/' + username\n",
    "    url_ = url.format(url_beer,client_id, client_secret)\n",
    "    data = urlopen(url_).read().decode()\n",
    "    return  rename(json_normalize(json.loads(data)))"
   ]
  },
  {
   "cell_type": "code",
   "execution_count": 108,
   "metadata": {},
   "outputs": [],
   "source": [
    "def searchUserFile():\n",
    "    df_user = pd.read_csv(r'data\\beer_user.csv')\n",
    "    df_check = pd.read_csv(r'data\\beer.csv')\n",
    "    total = 1\n",
    "    for i, item in df_check[~df_check.id_usuario.isin(df_user.id_usuario)].iterrows():\n",
    "        df_user = df_user.append(searchUser(item.usuario))\n",
    "\n",
    "        if (total > 99):\n",
    "            break;\n",
    "        total +=1\n",
    "    df_user.to_csv(r'data\\beer_user.csv')"
   ]
  },
  {
   "cell_type": "code",
   "execution_count": 87,
   "metadata": {},
   "outputs": [],
   "source": [
    "def searchCheckUser(id_user, data):\n",
    "    data_check_user = data[['checkin_id','beer.beer_style',\n",
    "                            'beer.bid','beer.beer_name',\n",
    "                            'brewery.brewery_name','created_at']].rename({'checkin_id':'check_id',\n",
    "                                                                          'beer.beer_style':'estilo_cerveja',\n",
    "                                                                          'beer.bid':'id_cerveja',\n",
    "                                                                          'beer.beer_name':'cerveja',\n",
    "                                                                          'brewery.brewery_name':'cervejaria',\n",
    "                                                                          'created_at':'data_checkin',\n",
    "                                                                         },axis=1)\n",
    "    data_check_user['user_id'] = id_user\n",
    "    return data_check_user"
   ]
  },
  {
   "cell_type": "code",
   "execution_count": 100,
   "metadata": {},
   "outputs": [],
   "source": [
    "def searchCheckInFile():\n",
    "    df_user = pd.read_csv(r'data\\beer_user.zip')\n",
    "    df_review = pd.DataFrame()\n",
    "    for i in range(len(df_user)):\n",
    "        json_df = json_normalize(eval(df_user.loc[i].checkin_outro.strip()))\n",
    "        df_review = df_review.append(searchCheckUser(df_user.loc[i].id_usuario, json_df))\n",
    "    df_review.to_csv(r'data\\beer_checkin.csv')"
   ]
  },
  {
   "cell_type": "code",
   "execution_count": 105,
   "metadata": {},
   "outputs": [
    {
     "data": {
      "text/plain": [
       "IPA - American                         2077\n",
       "IPA - New England                      1718\n",
       "IPA - Imperial / Double                1088\n",
       "IPA - Imperial / Double New England     987\n",
       "IPA - Session / India Session Ale       580\n",
       "                                       ... \n",
       "Kentucky Common                           1\n",
       "Kvass                                     1\n",
       "Australian Sparkling Ale                  1\n",
       "Pale Ale - Milkshake                      1\n",
       "Kombucha                                  1\n",
       "Name: estilo_cerveja, Length: 181, dtype: int64"
      ]
     },
     "execution_count": 105,
     "metadata": {},
     "output_type": "execute_result"
    }
   ],
   "source": [
    "df_review.estilo_cerveja.value_counts()"
   ]
  }
 ],
 "metadata": {
  "kernelspec": {
   "display_name": "Python 3",
   "language": "python",
   "name": "python3"
  },
  "language_info": {
   "codemirror_mode": {
    "name": "ipython",
    "version": 3
   },
   "file_extension": ".py",
   "mimetype": "text/x-python",
   "name": "python",
   "nbconvert_exporter": "python",
   "pygments_lexer": "ipython3",
   "version": "3.7.4"
  }
 },
 "nbformat": 4,
 "nbformat_minor": 2
}
