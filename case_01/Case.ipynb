{
 "cells": [
  {
   "cell_type": "code",
   "execution_count": 17,
   "metadata": {},
   "outputs": [],
   "source": [
    "import pandas as pd\n",
    "import numpy as np\n",
    "import matplotlib.pyplot as plt\n",
    "%matplotlib inline\n",
    "import warnings\n",
    "warnings.filterwarnings('ignore')\n",
    "import seaborn as sns\n",
    "from sklearn.model_selection import train_test_split\n",
    "from sklearn.tree import DecisionTreeClassifier\n",
    "from sklearn.model_selection import cross_val_score\n",
    "from sklearn.model_selection import cross_validate\n",
    "from sklearn.metrics import accuracy_score\n",
    "from sklearn.metrics import classification_report\n",
    "from sklearn.metrics import confusion_matrix\n",
    "from sklearn.svm import SVC\n",
    "from sklearn.linear_model import LogisticRegression\n",
    "from sklearn.ensemble import RandomForestClassifier\n",
    "from sklearn import preprocessing\n",
    "from sklearn.model_selection import StratifiedKFold\n",
    "from sklearn.model_selection import cross_val_predict\n",
    "from sklearn.metrics import precision_recall_curve\n",
    "\n",
    "class Panela:\n",
    "    def __init__(self, arquivo):\n",
    "        self.arquivo = arquivo\n",
    "        self.df_principal = self.carregar_arquivo()\n",
    "        self.df_produto = pd.DataFrame()\n",
    "        self.df_produto_ml = pd.DataFrame()\n",
    "        \n",
    "        self.carregar_produto()\n",
    "        \n",
    "    def carregar_arquivo(self):\n",
    "        '''Carregar arquivo e renomear colunas'''\n",
    "        df_principal = pd.read_csv(self.arquivo)\n",
    "        df_principal.rename(columns={'CAPACIDADE_(L)':'CAPACIDADE'},inplace=True)\n",
    "        return df_principal\n",
    "\n",
    "    def carregar_produto(self):\n",
    "        '''Retornar os produtos únicos'''\n",
    "        self.df_produto = self.df_principal[['ITEM_ID', 'ALTURA', \n",
    "                                             'CAPACIDADE', 'COMPOSICAO', \n",
    "                                             'COR', 'FORMATO',\n",
    "                                             'LARGURA', 'MARCA', \n",
    "                                             'PARA_LAVA_LOUCAS', 'PARA_MICRO_ONDAS', \n",
    "                                             'PESO','PROFUNDIDADE', \n",
    "                                             'TEMPO_GARANTIA', 'TEM_FERRO_FUNDIDO', \n",
    "                                             'TEM_GRELHA','TEM_TAMPA', \n",
    "                                             'TIPO_PRODUTO', 'TIPO_WOK', \n",
    "                                             'ITEM_PRICE','INTERESTED']].drop_duplicates()\n",
    "        self.df_produto = self.df_produto.reset_index(drop=True)\n",
    "        self.tratar_coluna_produto()\n",
    "        self.imputar_dado_produto()\n",
    "        self.calcular_dado_produto()\n",
    "    \n",
    "    def tratar_coluna_produto(self):\n",
    "        '''Tratar colunas do dataframe de produtos'''\n",
    "        \n",
    "        #Produtos sem preço não são vendáveis\n",
    "        self.df_produto.drop(self.df_produto[(self.df_produto.ITEM_PRICE.isnull())].index, inplace=True)\n",
    "        self.df_produto = self.df_produto.reset_index(drop=True)\n",
    "        #Produtos com a garantia nula, é atribuído 0\n",
    "        self.df_produto.TEMPO_GARANTIA[self.df_produto.TEMPO_GARANTIA.isnull()] = 0\n",
    "        \n",
    "        self.df_produto.TIPO_WOK = np.where(self.df_produto.TIPO_WOK == 'NAO', 0, 1)\n",
    "        self.df_produto.TEM_GRELHA = np.where(self.df_produto.TEM_GRELHA == 'NAO', 0, 1)\n",
    "        self.df_produto.TEM_FERRO_FUNDIDO = np.where(self.df_produto.TEM_FERRO_FUNDIDO == 'NAO', 0, 1)\n",
    "        \n",
    "        self.df_produto.PARA_LAVA_LOUCAS[self.df_produto.PARA_LAVA_LOUCAS == 'NAO'] = 'No'\n",
    "        self.df_produto.PARA_LAVA_LOUCAS = np.where(self.df_produto.PARA_LAVA_LOUCAS == 'NAO', 0, \n",
    "                                                    np.where(self.df_produto.PARA_LAVA_LOUCAS == 'SIM',1,-1))\n",
    "                                                    \n",
    "        self.df_produto.PARA_MICRO_ONDAS = np.where(self.df_produto.PARA_MICRO_ONDAS == 'no', 0, \n",
    "                                                    np.where(self.df_produto.PARA_MICRO_ONDAS == 'yes',1,-1))\n",
    "        \n",
    "    def imputar_dado_produto(self):\n",
    "        '''Atribuir valores para itens sem classificação'''\n",
    "        self.df_produto.FORMATO[self.df_produto.FORMATO.isnull()] = 'INDEFINIDO'\n",
    "        self.df_produto.COMPOSICAO[self.df_produto.COMPOSICAO.isnull()] = 'INDEFINIDO'\n",
    "        self.df_produto.COR[self.df_produto.COR.isnull()] = 'INDEFINIDO'\n",
    "        self.df_produto.MARCA[self.df_produto.MARCA.isnull()] = 'INDEFINIDO'\n",
    "    \n",
    "    def classificar_literal_produto(self):\n",
    "        '''Transforma as colunas do tipo string em números '''\n",
    "        self.df_produto_ml = self.df_produto.copy()\n",
    "        \n",
    "        if 'COMPOSICAO' in self.df_produto.columns:\n",
    "            self.df_produto_ml = self.df_produto_ml.join(pd.get_dummies(self.df_produto_ml.COMPOSICAO, prefix='COMPOSICAO'))\n",
    "            self.df_produto_ml.drop(columns=['COMPOSICAO'],inplace=True)\n",
    "        \n",
    "        if 'COR' in self.df_produto.columns:        \n",
    "            self.df_produto_ml = self.df_produto_ml.join(pd.get_dummies(self.df_produto_ml.COR, prefix='COR'))\n",
    "            self.df_produto_ml.drop(columns=['COR'],inplace=True)\n",
    "            \n",
    "        if 'MARCA' in self.df_produto.columns:        \n",
    "            self.df_produto_ml = self.df_produto_ml.join(pd.get_dummies(self.df_produto_ml.MARCA, prefix='MARCA'))\n",
    "            self.df_produto_ml.drop(columns=['MARCA'],inplace=True)\n",
    "\n",
    "        if 'TIPO_PRODUTO' in self.df_produto.columns:\n",
    "            self.df_produto_ml = self.df_produto_ml.join(pd.get_dummies(self.df_produto_ml.TIPO_PRODUTO, prefix='TIPO_PRODUTO'))\n",
    "\n",
    "        if 'FORMATO' in self.df_produto.columns:\n",
    "            self.df_produto_ml = self.df_produto_ml.join(pd.get_dummies(self.df_produto_ml.FORMATO, prefix='FORMATO'))\n",
    "            self.df_produto_ml.drop(columns=['FORMATO'],inplace=True)\n",
    "            \n",
    "    def testar_dado_produto(self, escalar=False, excluir_linha_nulo=True):        \n",
    "        if excluir_linha_nulo:\n",
    "            #Tipos de produtos que não tem dados em algumas colunas\n",
    "            lst_tipo = self.df_produto_ml[(self.df_produto_ml.CAPACIDADE.isnull()) | (self.df_produto_ml.ALTURA.isnull()) |\n",
    "                              (self.df_produto_ml.LARGURA.isnull()) | (self.df_produto_ml.PROFUNDIDADE.isnull()) |\n",
    "                             (self.df_produto_ml.PESO.isnull())].TIPO_PRODUTO.unique()\n",
    "            self.df_produto_ml.drop(self.df_produto_ml[self.df_produto_ml.TIPO_PRODUTO.isin(lst_tipo)].index, inplace=True)\n",
    "        \n",
    "        if escalar:\n",
    "            coluna_escala = ['ALTURA','CAPACIDADE','LARGURA','PESO','PROFUNDIDADE','TEMPO_GARANTIA','ITEM_PRICE']\n",
    "            coluna_existe = [item for item in self.df_produto_ml.columns if item in coluna_escala]\n",
    "            \n",
    "            df_escala = self.df_produto_ml[coluna_existe].copy()\n",
    "            scaler = preprocessing.StandardScaler().fit(df_escala.values)\n",
    "            self.df_produto_ml[coluna_existe] = scaler.transform(df_escala.values)\n",
    "        \n",
    "        SEED = 42\n",
    "        np.random.seed(SEED)\n",
    "        \n",
    "        #excluir colunas para o teste\n",
    "        coluna = [item for item in self.df_produto_ml.columns if item not in ['ITEM_ID','TIPO_PRODUTO','INTERESTED']]\n",
    "        \n",
    "        X_train, X_test, y_train, y_test = train_test_split(self.df_produto_ml[coluna], \n",
    "                                                            self.df_produto_ml['INTERESTED'], \n",
    "                                                            test_size = 0.20)\n",
    "        return X_train, X_test, y_train, y_test\n",
    "        \n",
    "    def aplicar_ml(self, escalar=False, excluir_linha_nulo=True, sem_kfold=False):        \n",
    "\n",
    "        SEED = 42\n",
    "        np.random.seed(SEED)\n",
    "        X_train, X_test, y_train, y_test = self.testar_dado_produto(escalar, excluir_linha_nulo)\n",
    "\n",
    "        cv = StratifiedKFold(n_splits = 5, shuffle = True)\n",
    "        model = DecisionTreeClassifier(max_depth=5)\n",
    "        model_svc = SVC() #kernel='linear'\n",
    "        model_log = LogisticRegression(solver='liblinear')\n",
    "        model_rand = RandomForestClassifier(n_estimators=200)\n",
    "        models = [model, model_svc, model_log, model_rand]\n",
    "        #models = [model_rand]\n",
    "        name = ['Árvore de Decisão', 'SVC', 'Regressão Logística', 'Random Forest']\n",
    "        #name = ['Random Forest']\n",
    "        index = 0\n",
    "        for item in models:\n",
    "            np.random.seed(SEED)\n",
    "            \n",
    "            if sem_kfold:\n",
    "                item.fit(X_train, y_train)\n",
    "                y_predict = item.predict(X_train)\n",
    "            else:\n",
    "                results = cross_val_score(item, X_train, y_train, cv = cv, scoring = 'accuracy')\n",
    "                feature = cross_validate(item, X_train, y_train, cv=cv, scoring = 'accuracy', return_estimator =True)\n",
    "                media = results.mean()\n",
    "                desvio = results.std()\n",
    "                y_predict = cross_val_predict(item, X_train, y_train, cv = cv)\n",
    "            \n",
    "            print('-'*100)\n",
    "            print('Modelo {}'.format(name[index]))\n",
    "            print('Matriz de Confusão:')\n",
    "            plt.figure(figsize=(5, 5))\n",
    "            sns.heatmap(confusion_matrix(y_train, y_predict), \n",
    "                        annot=True, linewidth=.1, \n",
    "                        fmt='.1f', cmap='Reds', \n",
    "                        square=True, cbar=False)\n",
    "            plt.show()\n",
    "            \n",
    "            if sem_kfold:\n",
    "                print (\"A acurácia foi de {:.2f}%.\".format(accuracy_score(y_train, y_predict) * 100))\n",
    "            else:\n",
    "                print('Acurácia média: {:.2f}%'.format(media*100))\n",
    "                print('Intervalo de acurácia: [{:.2f}% ~ {:.2f}%]'.format((media - 2*desvio)*100, (media + 2*desvio)*100))           \n",
    "            \n",
    "            try:\n",
    "                if sem_kfold:\n",
    "                    lst_atributo = sorted(list(zip(X_train.columns, item.feature_importances_)), \n",
    "                                          key=lambda x : x[1], reverse=True)[:5]\n",
    "                    print('Atributos mais relevantes para a decisão se o produto é interessante/não interessante')\n",
    "                    for item in lst_atributo:\n",
    "                        print('Atributo: {} - Importância: {:.10f}%'.format(item[0], item[1] * 100))\n",
    "                else:    \n",
    "                    for indice, estimator in enumerate(feature['estimator']):\n",
    "                        print('Atributos mais relevantes para a decisão se o produto é interessante/não interessante - estimador {}'.format(indice))\n",
    "                        feature_importances = pd.DataFrame(estimator.feature_importances_,\n",
    "                                                           index = X_train.columns,\n",
    "                                                            columns=['importance']).sort_values('importance', ascending=False)\n",
    "                        for i, linha in feature_importances.head(5).iterrows():\n",
    "                            print('Atributo: {} - Importância: {:.10f}%'.format(linha.name, linha[0] * 100))\n",
    "                        print(' ')\n",
    "                    \n",
    "            except:\n",
    "                print('Não implementado o classificador')\n",
    "                \n",
    "                \n",
    "            index += 1\n",
    "    \n",
    "    def calcular_dado_produto(self):\n",
    "        '''Calcular a média dos atributos por tipo de produto'''\n",
    "        def calcular(tipo, coluna):\n",
    "            media = np.mean(self.df_produto[coluna][(self.df_produto.TIPO_PRODUTO == tipo)], axis=0)\n",
    "            desvio = np.std(self.df_produto[coluna][(self.df_produto.TIPO_PRODUTO == tipo)], axis=0)\n",
    "            media_final = np.mean(self.df_produto[coluna][(self.df_produto.TIPO_PRODUTO ==  tipo) &\n",
    "                                                          (self.df_produto[coluna] >= media - 2 * desvio) &\n",
    "                                                          (self.df_produto[coluna] <= media + 2 * desvio)], axis=0)\n",
    "            return round(media_final,2)\n",
    "        \n",
    "        lst_altura = {item: calcular(item, 'ALTURA') for item in self.df_produto.TIPO_PRODUTO.unique()}\n",
    "        lst_capacidade = {item: calcular(item, 'CAPACIDADE') for item in self.df_produto.TIPO_PRODUTO.unique()}\n",
    "        lst_largura = {item: calcular(item, 'LARGURA') for item in self.df_produto.TIPO_PRODUTO.unique()}\n",
    "        lst_peso = {item: calcular(item, 'PESO') for item in self.df_produto.TIPO_PRODUTO.unique()}\n",
    "        lst_profundidade = {item: calcular(item, 'PROFUNDIDADE') for item in self.df_produto.TIPO_PRODUTO.unique()}\n",
    "\n",
    "        self.df_produto.ALTURA[self.df_produto.ALTURA.isnull()] = self.df_produto.TIPO_PRODUTO[self.df_produto.ALTURA.isnull()].apply(lambda x: lst_altura[x])\n",
    "        self.df_produto.CAPACIDADE[self.df_produto.CAPACIDADE.isnull()] = self.df_produto.TIPO_PRODUTO[self.df_produto.CAPACIDADE.isnull()].apply(lambda x: lst_capacidade[x])\n",
    "        self.df_produto.LARGURA[self.df_produto.LARGURA.isnull()] = self.df_produto.TIPO_PRODUTO[self.df_produto.LARGURA.isnull()].apply(lambda x: lst_largura[x])\n",
    "        self.df_produto.PESO[self.df_produto.PESO.isnull()] = self.df_produto.TIPO_PRODUTO[self.df_produto.PESO.isnull()].apply(lambda x: lst_peso[x])\n",
    "        self.df_produto.PROFUNDIDADE[self.df_produto.PROFUNDIDADE.isnull()] = self.df_produto.TIPO_PRODUTO[self.df_produto.PROFUNDIDADE.isnull()].apply(lambda x: lst_profundidade[x])"
   ]
  },
  {
   "cell_type": "code",
   "execution_count": 2,
   "metadata": {},
   "outputs": [],
   "source": [
    "panela = Panela('problem1_dataset.csv')"
   ]
  },
  {
   "cell_type": "markdown",
   "metadata": {},
   "source": [
    "<h4>ANÁLISE DESCRITIVA</h4>"
   ]
  },
  {
   "cell_type": "markdown",
   "metadata": {},
   "source": [
    "Verifiquei os tipos das colunas, e as possíveis colunas que deverão ser tratadas para aplicar o modelo"
   ]
  },
  {
   "cell_type": "code",
   "execution_count": 3,
   "metadata": {},
   "outputs": [
    {
     "data": {
      "text/plain": [
       "ITEM_ID                int64\n",
       "ALTURA               float64\n",
       "CAPACIDADE           float64\n",
       "COMPOSICAO            object\n",
       "COR                   object\n",
       "FORMATO               object\n",
       "LARGURA              float64\n",
       "MARCA                 object\n",
       "PARA_LAVA_LOUCAS      object\n",
       "PARA_MICRO_ONDAS      object\n",
       "PESO                 float64\n",
       "PROFUNDIDADE         float64\n",
       "TEMPO_GARANTIA       float64\n",
       "TEM_FERRO_FUNDIDO     object\n",
       "TEM_GRELHA            object\n",
       "TEM_TAMPA            float64\n",
       "TIPO_PRODUTO          object\n",
       "TIPO_WOK              object\n",
       "SESSION_ID           float64\n",
       "ITEM_PRICE           float64\n",
       "INTERESTED           float64\n",
       "dtype: object"
      ]
     },
     "execution_count": 3,
     "metadata": {},
     "output_type": "execute_result"
    }
   ],
   "source": [
    "panela.df_principal.dtypes"
   ]
  },
  {
   "cell_type": "markdown",
   "metadata": {},
   "source": [
    "Verifiquei a discrepância do desvio padrão nas colunas númericas para verificar a variação do dados<br>"
   ]
  },
  {
   "cell_type": "code",
   "execution_count": 4,
   "metadata": {},
   "outputs": [
    {
     "data": {
      "text/html": [
       "<div>\n",
       "<style scoped>\n",
       "    .dataframe tbody tr th:only-of-type {\n",
       "        vertical-align: middle;\n",
       "    }\n",
       "\n",
       "    .dataframe tbody tr th {\n",
       "        vertical-align: top;\n",
       "    }\n",
       "\n",
       "    .dataframe thead th {\n",
       "        text-align: right;\n",
       "    }\n",
       "</style>\n",
       "<table border=\"1\" class=\"dataframe\">\n",
       "  <thead>\n",
       "    <tr style=\"text-align: right;\">\n",
       "      <th></th>\n",
       "      <th>ALTURA</th>\n",
       "      <th>CAPACIDADE</th>\n",
       "      <th>LARGURA</th>\n",
       "      <th>PESO</th>\n",
       "      <th>PROFUNDIDADE</th>\n",
       "      <th>TEMPO_GARANTIA</th>\n",
       "      <th>ITEM_PRICE</th>\n",
       "    </tr>\n",
       "  </thead>\n",
       "  <tbody>\n",
       "    <tr>\n",
       "      <td>count</td>\n",
       "      <td>171007.000000</td>\n",
       "      <td>76671.000000</td>\n",
       "      <td>171007.000000</td>\n",
       "      <td>98524.000000</td>\n",
       "      <td>171007.000000</td>\n",
       "      <td>122770.000000</td>\n",
       "      <td>167178.000000</td>\n",
       "    </tr>\n",
       "    <tr>\n",
       "      <td>mean</td>\n",
       "      <td>30.575636</td>\n",
       "      <td>4.234668</td>\n",
       "      <td>27.882157</td>\n",
       "      <td>311.259118</td>\n",
       "      <td>34.797386</td>\n",
       "      <td>13.870742</td>\n",
       "      <td>127.831019</td>\n",
       "    </tr>\n",
       "    <tr>\n",
       "      <td>std</td>\n",
       "      <td>14.856403</td>\n",
       "      <td>1.699274</td>\n",
       "      <td>10.494943</td>\n",
       "      <td>1727.585999</td>\n",
       "      <td>15.179911</td>\n",
       "      <td>43.641581</td>\n",
       "      <td>137.298241</td>\n",
       "    </tr>\n",
       "    <tr>\n",
       "      <td>min</td>\n",
       "      <td>2.000000</td>\n",
       "      <td>0.045000</td>\n",
       "      <td>4.500000</td>\n",
       "      <td>0.619000</td>\n",
       "      <td>2.500000</td>\n",
       "      <td>1.000000</td>\n",
       "      <td>0.550000</td>\n",
       "    </tr>\n",
       "    <tr>\n",
       "      <td>25%</td>\n",
       "      <td>19.000000</td>\n",
       "      <td>3.100000</td>\n",
       "      <td>20.000000</td>\n",
       "      <td>120.000000</td>\n",
       "      <td>19.800000</td>\n",
       "      <td>3.000000</td>\n",
       "      <td>74.990000</td>\n",
       "    </tr>\n",
       "    <tr>\n",
       "      <td>50%</td>\n",
       "      <td>30.500000</td>\n",
       "      <td>4.500000</td>\n",
       "      <td>27.800000</td>\n",
       "      <td>160.000000</td>\n",
       "      <td>38.500000</td>\n",
       "      <td>6.000000</td>\n",
       "      <td>104.482418</td>\n",
       "    </tr>\n",
       "    <tr>\n",
       "      <td>75%</td>\n",
       "      <td>42.700000</td>\n",
       "      <td>6.000000</td>\n",
       "      <td>35.000000</td>\n",
       "      <td>190.000000</td>\n",
       "      <td>47.000000</td>\n",
       "      <td>12.000000</td>\n",
       "      <td>146.327727</td>\n",
       "    </tr>\n",
       "    <tr>\n",
       "      <td>max</td>\n",
       "      <td>84.000000</td>\n",
       "      <td>11.000000</td>\n",
       "      <td>91.000000</td>\n",
       "      <td>44400.000000</td>\n",
       "      <td>148.000000</td>\n",
       "      <td>300.000000</td>\n",
       "      <td>2274.990000</td>\n",
       "    </tr>\n",
       "  </tbody>\n",
       "</table>\n",
       "</div>"
      ],
      "text/plain": [
       "              ALTURA    CAPACIDADE        LARGURA          PESO  \\\n",
       "count  171007.000000  76671.000000  171007.000000  98524.000000   \n",
       "mean       30.575636      4.234668      27.882157    311.259118   \n",
       "std        14.856403      1.699274      10.494943   1727.585999   \n",
       "min         2.000000      0.045000       4.500000      0.619000   \n",
       "25%        19.000000      3.100000      20.000000    120.000000   \n",
       "50%        30.500000      4.500000      27.800000    160.000000   \n",
       "75%        42.700000      6.000000      35.000000    190.000000   \n",
       "max        84.000000     11.000000      91.000000  44400.000000   \n",
       "\n",
       "        PROFUNDIDADE  TEMPO_GARANTIA     ITEM_PRICE  \n",
       "count  171007.000000   122770.000000  167178.000000  \n",
       "mean       34.797386       13.870742     127.831019  \n",
       "std        15.179911       43.641581     137.298241  \n",
       "min         2.500000        1.000000       0.550000  \n",
       "25%        19.800000        3.000000      74.990000  \n",
       "50%        38.500000        6.000000     104.482418  \n",
       "75%        47.000000       12.000000     146.327727  \n",
       "max       148.000000      300.000000    2274.990000  "
      ]
     },
     "execution_count": 4,
     "metadata": {},
     "output_type": "execute_result"
    }
   ],
   "source": [
    "panela.df_principal[['ALTURA','CAPACIDADE','LARGURA','PESO','PROFUNDIDADE','TEMPO_GARANTIA','ITEM_PRICE']].describe()"
   ]
  },
  {
   "cell_type": "markdown",
   "metadata": {},
   "source": [
    "Verifiquei se havia outliers nessas colunas<br>"
   ]
  },
  {
   "cell_type": "code",
   "execution_count": 5,
   "metadata": {},
   "outputs": [
    {
     "data": {
      "image/png": "[encoded data removed]",
      "text/plain": [
       "<Figure size 792x504 with 1 Axes>"
      ]
     },
     "metadata": {
      "needs_background": "light"
     },
     "output_type": "display_data"
    }
   ],
   "source": [
    "plt.figure(figsize=(11,7))\n",
    "sns.boxplot(data=panela.df_principal[['ALTURA', 'CAPACIDADE','LARGURA', \n",
    "                                        'PROFUNDIDADE', 'TEMPO_GARANTIA', 'ITEM_PRICE']], orient=\"h\", palette=\"Set2\");"
   ]
  },
  {
   "cell_type": "code",
   "execution_count": 6,
   "metadata": {},
   "outputs": [
    {
     "data": {
      "image/png": "[encoded data removed]",
      "text/plain": [
       "<Figure size 432x288 with 1 Axes>"
      ]
     },
     "metadata": {
      "needs_background": "light"
     },
     "output_type": "display_data"
    }
   ],
   "source": [
    "sns.boxplot(data=panela.df_principal[['PESO']], orient=\"h\", palette=\"Set2\");"
   ]
  },
  {
   "cell_type": "markdown",
   "metadata": {},
   "source": [
    "Verificação das colunas, para entender se existem colunas altamente correlacionadas"
   ]
  },
  {
   "cell_type": "code",
   "execution_count": 7,
   "metadata": {},
   "outputs": [
    {
     "data": {
      "image/png": "[encoded data removed]",
      "text/plain": [
       "<Figure size 792x504 with 2 Axes>"
      ]
     },
     "metadata": {
      "needs_background": "light"
     },
     "output_type": "display_data"
    }
   ],
   "source": [
    "plt.figure(figsize=(11,7))\n",
    "sns.heatmap(panela.df_principal.corr(), annot=True, linewidths=.5);"
   ]
  },
  {
   "cell_type": "markdown",
   "metadata": {},
   "source": [
    "Verifiquei a quantidade de valores nulos nas colunas e quais provavelmente devem ser tratadas"
   ]
  },
  {
   "cell_type": "code",
   "execution_count": 8,
   "metadata": {},
   "outputs": [
    {
     "data": {
      "text/plain": [
       "ITEM_ID                   0\n",
       "ALTURA                 9268\n",
       "CAPACIDADE           103604\n",
       "COMPOSICAO            23297\n",
       "COR                   10024\n",
       "FORMATO               90264\n",
       "LARGURA                9268\n",
       "MARCA                   274\n",
       "PARA_LAVA_LOUCAS      76189\n",
       "PARA_MICRO_ONDAS      93873\n",
       "PESO                  81751\n",
       "PROFUNDIDADE           9268\n",
       "TEMPO_GARANTIA        57505\n",
       "TEM_FERRO_FUNDIDO         0\n",
       "TEM_GRELHA                0\n",
       "TEM_TAMPA                 0\n",
       "TIPO_PRODUTO              0\n",
       "TIPO_WOK                  0\n",
       "SESSION_ID             2002\n",
       "ITEM_PRICE            13097\n",
       "INTERESTED                0\n",
       "dtype: int64"
      ]
     },
     "execution_count": 8,
     "metadata": {},
     "output_type": "execute_result"
    }
   ],
   "source": [
    "panela.df_principal.isnull().sum()"
   ]
  },
  {
   "cell_type": "markdown",
   "metadata": {},
   "source": [
    "Listei todos os tipos de produtos no dataset para entender com quantos tipos vamos trabalhar"
   ]
  },
  {
   "cell_type": "code",
   "execution_count": 9,
   "metadata": {},
   "outputs": [
    {
     "data": {
      "text/plain": [
       "array(['PANELA', 'PIPOQUEIRA', 'ESPAGUETEIRA', 'CREMEIRA', 'WOK',\n",
       "       'CACAROLA', 'CUSCUZEIRA', 'CHAPA', 'CHALEIRA', 'FRIGIDEIRA',\n",
       "       'FERVEDOR', 'SANDUICHEIRA', 'FONDUE', 'MINI-CACAROLA',\n",
       "       'OMELETEIRA', 'PAELLERA', 'BIFETEIRA', 'CALDEIRAO', 'CUMBUCA',\n",
       "       'PANQUEQUEIRA', 'FRITADEIRA', 'FOGAREIRO', 'FORMA', 'LEITEIRA',\n",
       "       'GRILL', 'BULE', 'COZI-VAPORE', 'ASSADEIRA', 'TAMPA', 'COZI-PASTA',\n",
       "       'PRENSADOR', 'CUSCUZEIRO', 'FORNO', 'PAPEIRO', 'BISTEQUEIRA',\n",
       "       'CANECO', 'VAPORELLA', 'CANECA/FERVEDOR'], dtype=object)"
      ]
     },
     "execution_count": 9,
     "metadata": {},
     "output_type": "execute_result"
    }
   ],
   "source": [
    "panela.df_principal.TIPO_PRODUTO.unique()"
   ]
  },
  {
   "cell_type": "markdown",
   "metadata": {},
   "source": [
    "<h4>TRATAMENTO DOS DADOS</h4>"
   ]
  },
  {
   "cell_type": "markdown",
   "metadata": {},
   "source": [
    "- Como em algumas colunas o desvio padrão é alto, apliquei um balanceamento nos dados (<i>StandardScaler</i>) afim de mitigar possíveis problemas decorrente da variação dos dados\n",
    "- Exclui as linhas aonde não havia preço, porque se um produto não tem preço não pode ser vendido\n",
    "- Em algumas colunas aonde não tinham valores, apliquei a média agrupada por tipo de produto. Por exemplo, os tipos dos produtos <b>\"PANELA\"</b> que não tinham o atributo largura preenchido, atribui a esse produto a média da largura do tipo de produto <b>\"PANELA\"</b>.\n",
    "- Defini como <b>\"INDEFINIDO\"</b> os produtos que não tinham valores nos campo categóricos"
   ]
  },
  {
   "cell_type": "code",
   "execution_count": 10,
   "metadata": {},
   "outputs": [
    {
     "data": {
      "text/html": [
       "<div>\n",
       "<style scoped>\n",
       "    .dataframe tbody tr th:only-of-type {\n",
       "        vertical-align: middle;\n",
       "    }\n",
       "\n",
       "    .dataframe tbody tr th {\n",
       "        vertical-align: top;\n",
       "    }\n",
       "\n",
       "    .dataframe thead th {\n",
       "        text-align: right;\n",
       "    }\n",
       "</style>\n",
       "<table border=\"1\" class=\"dataframe\">\n",
       "  <thead>\n",
       "    <tr style=\"text-align: right;\">\n",
       "      <th></th>\n",
       "      <th>ITEM_ID</th>\n",
       "      <th>ALTURA</th>\n",
       "      <th>CAPACIDADE</th>\n",
       "      <th>COMPOSICAO</th>\n",
       "      <th>COR</th>\n",
       "      <th>FORMATO</th>\n",
       "      <th>LARGURA</th>\n",
       "      <th>MARCA</th>\n",
       "      <th>PARA_LAVA_LOUCAS</th>\n",
       "      <th>PARA_MICRO_ONDAS</th>\n",
       "      <th>PESO</th>\n",
       "      <th>PROFUNDIDADE</th>\n",
       "      <th>TEMPO_GARANTIA</th>\n",
       "      <th>TEM_FERRO_FUNDIDO</th>\n",
       "      <th>TEM_GRELHA</th>\n",
       "      <th>TEM_TAMPA</th>\n",
       "      <th>TIPO_PRODUTO</th>\n",
       "      <th>TIPO_WOK</th>\n",
       "      <th>ITEM_PRICE</th>\n",
       "      <th>INTERESTED</th>\n",
       "    </tr>\n",
       "  </thead>\n",
       "  <tbody>\n",
       "    <tr>\n",
       "      <td>596</td>\n",
       "      <td>14581492</td>\n",
       "      <td>32.0</td>\n",
       "      <td>4.5</td>\n",
       "      <td>ALUMINIO</td>\n",
       "      <td>PRETO</td>\n",
       "      <td>INDEFINIDO</td>\n",
       "      <td>32.0</td>\n",
       "      <td>TRAMONTINA</td>\n",
       "      <td>-1</td>\n",
       "      <td>0</td>\n",
       "      <td>20.00</td>\n",
       "      <td>15.0</td>\n",
       "      <td>12.0</td>\n",
       "      <td>0</td>\n",
       "      <td>0</td>\n",
       "      <td>1.0</td>\n",
       "      <td>PANELA</td>\n",
       "      <td>1</td>\n",
       "      <td>92.490000</td>\n",
       "      <td>0.0</td>\n",
       "    </tr>\n",
       "    <tr>\n",
       "      <td>2011</td>\n",
       "      <td>258463516</td>\n",
       "      <td>16.5</td>\n",
       "      <td>5.5</td>\n",
       "      <td>ALUMINIO</td>\n",
       "      <td>PRATA</td>\n",
       "      <td>INDEFINIDO</td>\n",
       "      <td>24.0</td>\n",
       "      <td>BRINOX</td>\n",
       "      <td>-1</td>\n",
       "      <td>-1</td>\n",
       "      <td>120.24</td>\n",
       "      <td>34.5</td>\n",
       "      <td>0.0</td>\n",
       "      <td>0</td>\n",
       "      <td>0</td>\n",
       "      <td>0.0</td>\n",
       "      <td>ESPAGUETEIRA</td>\n",
       "      <td>0</td>\n",
       "      <td>98.847143</td>\n",
       "      <td>0.0</td>\n",
       "    </tr>\n",
       "    <tr>\n",
       "      <td>122</td>\n",
       "      <td>240761706</td>\n",
       "      <td>8.5</td>\n",
       "      <td>1.5</td>\n",
       "      <td>ALUMINIO</td>\n",
       "      <td>VERMELHO</td>\n",
       "      <td>INDEFINIDO</td>\n",
       "      <td>25.0</td>\n",
       "      <td>MTA</td>\n",
       "      <td>-1</td>\n",
       "      <td>0</td>\n",
       "      <td>180.00</td>\n",
       "      <td>48.5</td>\n",
       "      <td>3.0</td>\n",
       "      <td>0</td>\n",
       "      <td>0</td>\n",
       "      <td>0.0</td>\n",
       "      <td>FRIGIDEIRA</td>\n",
       "      <td>0</td>\n",
       "      <td>199.000000</td>\n",
       "      <td>0.0</td>\n",
       "    </tr>\n",
       "    <tr>\n",
       "      <td>4405</td>\n",
       "      <td>255997894</td>\n",
       "      <td>14.0</td>\n",
       "      <td>2.3</td>\n",
       "      <td>ALUMINIO</td>\n",
       "      <td>PRETO</td>\n",
       "      <td>REDONDO</td>\n",
       "      <td>20.0</td>\n",
       "      <td>DONA CHEFA</td>\n",
       "      <td>-1</td>\n",
       "      <td>-1</td>\n",
       "      <td>165.75</td>\n",
       "      <td>37.0</td>\n",
       "      <td>6.0</td>\n",
       "      <td>0</td>\n",
       "      <td>0</td>\n",
       "      <td>1.0</td>\n",
       "      <td>PANELA</td>\n",
       "      <td>0</td>\n",
       "      <td>49.990000</td>\n",
       "      <td>0.0</td>\n",
       "    </tr>\n",
       "    <tr>\n",
       "      <td>3212</td>\n",
       "      <td>242171044</td>\n",
       "      <td>19.0</td>\n",
       "      <td>NaN</td>\n",
       "      <td>INOX</td>\n",
       "      <td>INOX</td>\n",
       "      <td>INDEFINIDO</td>\n",
       "      <td>15.5</td>\n",
       "      <td>TRAMONTINA</td>\n",
       "      <td>-1</td>\n",
       "      <td>0</td>\n",
       "      <td>110.00</td>\n",
       "      <td>22.0</td>\n",
       "      <td>12.0</td>\n",
       "      <td>0</td>\n",
       "      <td>0</td>\n",
       "      <td>0.0</td>\n",
       "      <td>CUSCUZEIRA</td>\n",
       "      <td>0</td>\n",
       "      <td>160.435833</td>\n",
       "      <td>0.0</td>\n",
       "    </tr>\n",
       "  </tbody>\n",
       "</table>\n",
       "</div>"
      ],
      "text/plain": [
       "        ITEM_ID  ALTURA  CAPACIDADE COMPOSICAO       COR     FORMATO  LARGURA  \\\n",
       "596    14581492    32.0         4.5   ALUMINIO     PRETO  INDEFINIDO     32.0   \n",
       "2011  258463516    16.5         5.5   ALUMINIO     PRATA  INDEFINIDO     24.0   \n",
       "122   240761706     8.5         1.5   ALUMINIO  VERMELHO  INDEFINIDO     25.0   \n",
       "4405  255997894    14.0         2.3   ALUMINIO     PRETO     REDONDO     20.0   \n",
       "3212  242171044    19.0         NaN       INOX      INOX  INDEFINIDO     15.5   \n",
       "\n",
       "           MARCA  PARA_LAVA_LOUCAS  PARA_MICRO_ONDAS    PESO  PROFUNDIDADE  \\\n",
       "596   TRAMONTINA                -1                 0   20.00          15.0   \n",
       "2011      BRINOX                -1                -1  120.24          34.5   \n",
       "122          MTA                -1                 0  180.00          48.5   \n",
       "4405  DONA CHEFA                -1                -1  165.75          37.0   \n",
       "3212  TRAMONTINA                -1                 0  110.00          22.0   \n",
       "\n",
       "      TEMPO_GARANTIA  TEM_FERRO_FUNDIDO  TEM_GRELHA  TEM_TAMPA  TIPO_PRODUTO  \\\n",
       "596             12.0                  0           0        1.0        PANELA   \n",
       "2011             0.0                  0           0        0.0  ESPAGUETEIRA   \n",
       "122              3.0                  0           0        0.0    FRIGIDEIRA   \n",
       "4405             6.0                  0           0        1.0        PANELA   \n",
       "3212            12.0                  0           0        0.0    CUSCUZEIRA   \n",
       "\n",
       "      TIPO_WOK  ITEM_PRICE  INTERESTED  \n",
       "596          1   92.490000         0.0  \n",
       "2011         0   98.847143         0.0  \n",
       "122          0  199.000000         0.0  \n",
       "4405         0   49.990000         0.0  \n",
       "3212         0  160.435833         0.0  "
      ]
     },
     "execution_count": 10,
     "metadata": {},
     "output_type": "execute_result"
    }
   ],
   "source": [
    "panela.df_produto.sample(5)"
   ]
  },
  {
   "cell_type": "markdown",
   "metadata": {},
   "source": [
    "Como existem alguns tipos de produtos que não existem atributos preenchidos, esses tipos de produtos serão tratados de forma separada. A minha decisão em não excluí-los foi tomada analisando que caso eles fosse excluídos, deixaria de fora da predição alguns tipos de produtos inteiros. Por exemplo, o tipo de produto <b>CREMEIRA</b>, não possui o campo <b>ALTURA</b> preenchido. Esse tipo de produto, será tratado de forma separada dos demais."
   ]
  },
  {
   "cell_type": "markdown",
   "metadata": {},
   "source": [
    "<h4>PREDIÇÃO</h4>"
   ]
  },
  {
   "cell_type": "markdown",
   "metadata": {},
   "source": [
    "Realizei testes em 4 modelos de predição supervisionados: <b>SVC, Árvore de decisão, Floresta aleatória e Regressão Logística</b>. \n",
    "Analisando a matriz de confusão, verifiquei que a <i>Acurácia</i> do modelo <b>Floresta aleatória</b> foi o melhor dentre os 4. <br>. Mesmo com o <i>Acurácia</i> menor que os outros modelos, analisei a <i>matriz de confusão</i> e constatei que no caso da <b>Floresta aleatória</b> os acertos foram mais balanceados. No outros casos, os modelos embora com uma <i>Acurácia</i> maior, os modelos acertaram poucos positivos."
   ]
  },
  {
   "cell_type": "markdown",
   "metadata": {},
   "source": [
    "Sem KFold"
   ]
  },
  {
   "cell_type": "code",
   "execution_count": 11,
   "metadata": {},
   "outputs": [
    {
     "name": "stdout",
     "output_type": "stream",
     "text": [
      "----------------------------------------------------------------------------------------------------\n",
      "Modelo Árvore de Decisão\n",
      "Matriz de Confusão:\n"
     ]
    },
    {
     "data": {
      "image/png": "[encoded data removed]",
      "text/plain": [
       "<Figure size 360x360 with 1 Axes>"
      ]
     },
     "metadata": {
      "needs_background": "light"
     },
     "output_type": "display_data"
    },
    {
     "name": "stdout",
     "output_type": "stream",
     "text": [
      "A acurácia foi de 71.96%.\n",
      "Atributos mais relevantes para a decisão se o produto é interessante/não interessante\n",
      "Atributo: ITEM_PRICE - Importância: 45.2453831882%\n",
      "Atributo: TIPO_PRODUTO_PIPOQUEIRA - Importância: 16.4994445998%\n",
      "Atributo: PESO - Importância: 8.6815446784%\n",
      "Atributo: COR_VERMELHO - Importância: 8.3261470269%\n",
      "Atributo: TEMPO_GARANTIA - Importância: 5.7023134529%\n",
      "----------------------------------------------------------------------------------------------------\n",
      "Modelo SVC\n",
      "Matriz de Confusão:\n"
     ]
    },
    {
     "data": {
      "image/png": "[encoded data removed]",
      "text/plain": [
       "<Figure size 360x360 with 1 Axes>"
      ]
     },
     "metadata": {
      "needs_background": "light"
     },
     "output_type": "display_data"
    },
    {
     "name": "stdout",
     "output_type": "stream",
     "text": [
      "A acurácia foi de 70.86%.\n",
      "Não implementado o classificador\n",
      "----------------------------------------------------------------------------------------------------\n",
      "Modelo Regressão Logística\n",
      "Matriz de Confusão:\n"
     ]
    },
    {
     "data": {
      "image/png": "[encoded data removed]",
      "text/plain": [
       "<Figure size 360x360 with 1 Axes>"
      ]
     },
     "metadata": {
      "needs_background": "light"
     },
     "output_type": "display_data"
    },
    {
     "name": "stdout",
     "output_type": "stream",
     "text": [
      "A acurácia foi de 70.79%.\n",
      "Não implementado o classificador\n",
      "----------------------------------------------------------------------------------------------------\n",
      "Modelo Random Forest\n",
      "Matriz de Confusão:\n"
     ]
    },
    {
     "data": {
      "image/png": "[encoded data removed]",
      "text/plain": [
       "<Figure size 360x360 with 1 Axes>"
      ]
     },
     "metadata": {
      "needs_background": "light"
     },
     "output_type": "display_data"
    },
    {
     "name": "stdout",
     "output_type": "stream",
     "text": [
      "A acurácia foi de 83.79%.\n",
      "Atributos mais relevantes para a decisão se o produto é interessante/não interessante\n",
      "Atributo: ITEM_PRICE - Importância: 75.9793326503%\n",
      "Atributo: ALTURA - Importância: 2.9330775989%\n",
      "Atributo: PROFUNDIDADE - Importância: 2.9000871969%\n",
      "Atributo: LARGURA - Importância: 2.7366370373%\n",
      "Atributo: PESO - Importância: 1.8599608884%\n"
     ]
    }
   ],
   "source": [
    "panela.carregar_produto()\n",
    "panela.classificar_literal_produto()\n",
    "panela.aplicar_ml(escalar=True, sem_kfold=True)"
   ]
  },
  {
   "cell_type": "markdown",
   "metadata": {},
   "source": [
    "Com KFold"
   ]
  },
  {
   "cell_type": "code",
   "execution_count": 12,
   "metadata": {},
   "outputs": [
    {
     "name": "stdout",
     "output_type": "stream",
     "text": [
      "----------------------------------------------------------------------------------------------------\n",
      "Modelo Árvore de Decisão\n",
      "Matriz de Confusão:\n"
     ]
    },
    {
     "data": {
      "image/png": "[encoded data removed]",
      "text/plain": [
       "<Figure size 360x360 with 1 Axes>"
      ]
     },
     "metadata": {
      "needs_background": "light"
     },
     "output_type": "display_data"
    },
    {
     "name": "stdout",
     "output_type": "stream",
     "text": [
      "Acurácia média: 70.63%\n",
      "Intervalo de acurácia: [69.71% ~ 71.55%]\n",
      "Atributos mais relevantes para a decisão se o produto é interessante/não interessante - estimador 0\n",
      "Atributo: ITEM_PRICE - Importância: 43.2680842680%\n",
      "Atributo: TIPO_PRODUTO_PIPOQUEIRA - Importância: 15.8692587426%\n",
      "Atributo: COR_COLORIDO - Importância: 6.7579990402%\n",
      "Atributo: COR_VERMELHO - Importância: 5.8957588691%\n",
      "Atributo: TEMPO_GARANTIA - Importância: 5.6088056789%\n",
      " \n",
      "Atributos mais relevantes para a decisão se o produto é interessante/não interessante - estimador 1\n",
      "Atributo: ITEM_PRICE - Importância: 47.7111001419%\n",
      "Atributo: TIPO_PRODUTO_PIPOQUEIRA - Importância: 14.2134321274%\n",
      "Atributo: COR_VERMELHO - Importância: 8.8286062014%\n",
      "Atributo: FORMATO_INDEFINIDO - Importância: 5.8248124759%\n",
      "Atributo: FORMATO_REDONDO - Importância: 5.1191900893%\n",
      " \n",
      "Atributos mais relevantes para a decisão se o produto é interessante/não interessante - estimador 2\n",
      "Atributo: ITEM_PRICE - Importância: 43.0773113998%\n",
      "Atributo: ALTURA - Importância: 21.7584388485%\n",
      "Atributo: COR_VERMELHO - Importância: 9.8972115304%\n",
      "Atributo: MARCA_TRAMONTINA - Importância: 9.3537697374%\n",
      "Atributo: COMPOSICAO_INOX - Importância: 3.9541664985%\n",
      " \n",
      "Atributos mais relevantes para a decisão se o produto é interessante/não interessante - estimador 3\n",
      "Atributo: ITEM_PRICE - Importância: 46.0053830116%\n",
      "Atributo: ALTURA - Importância: 17.4228875505%\n",
      "Atributo: PESO - Importância: 9.8127362732%\n",
      "Atributo: COR_VERMELHO - Importância: 7.9954598525%\n",
      "Atributo: PARA_MICRO_ONDAS - Importância: 7.6398624183%\n",
      " \n",
      "Atributos mais relevantes para a decisão se o produto é interessante/não interessante - estimador 4\n",
      "Atributo: ITEM_PRICE - Importância: 33.9502547557%\n",
      "Atributo: TIPO_PRODUTO_PIPOQUEIRA - Importância: 18.7379204129%\n",
      "Atributo: PESO - Importância: 9.5241085898%\n",
      "Atributo: TEMPO_GARANTIA - Importância: 8.0078324942%\n",
      "Atributo: CAPACIDADE - Importância: 7.9112329760%\n",
      " \n",
      "----------------------------------------------------------------------------------------------------\n",
      "Modelo SVC\n",
      "Matriz de Confusão:\n"
     ]
    },
    {
     "data": {
      "image/png": "[encoded data removed]",
      "text/plain": [
       "<Figure size 360x360 with 1 Axes>"
      ]
     },
     "metadata": {
      "needs_background": "light"
     },
     "output_type": "display_data"
    },
    {
     "name": "stdout",
     "output_type": "stream",
     "text": [
      "Acurácia média: 70.79%\n",
      "Intervalo de acurácia: [69.35% ~ 72.23%]\n",
      "Atributos mais relevantes para a decisão se o produto é interessante/não interessante - estimador 0\n",
      "Não implementado o classificador\n",
      "----------------------------------------------------------------------------------------------------\n",
      "Modelo Regressão Logística\n",
      "Matriz de Confusão:\n"
     ]
    },
    {
     "data": {
      "image/png": "[encoded data removed]",
      "text/plain": [
       "<Figure size 360x360 with 1 Axes>"
      ]
     },
     "metadata": {
      "needs_background": "light"
     },
     "output_type": "display_data"
    },
    {
     "name": "stdout",
     "output_type": "stream",
     "text": [
      "Acurácia média: 70.29%\n",
      "Intervalo de acurácia: [69.17% ~ 71.41%]\n",
      "Atributos mais relevantes para a decisão se o produto é interessante/não interessante - estimador 0\n",
      "Não implementado o classificador\n",
      "----------------------------------------------------------------------------------------------------\n",
      "Modelo Random Forest\n",
      "Matriz de Confusão:\n"
     ]
    },
    {
     "data": {
      "image/png": "[encoded data removed]",
      "text/plain": [
       "<Figure size 360x360 with 1 Axes>"
      ]
     },
     "metadata": {
      "needs_background": "light"
     },
     "output_type": "display_data"
    },
    {
     "name": "stdout",
     "output_type": "stream",
     "text": [
      "Acurácia média: 52.58%\n",
      "Intervalo de acurácia: [49.62% ~ 55.55%]\n",
      "Atributos mais relevantes para a decisão se o produto é interessante/não interessante - estimador 0\n",
      "Atributo: ITEM_PRICE - Importância: 73.5489161595%\n",
      "Atributo: PROFUNDIDADE - Importância: 3.1614131463%\n",
      "Atributo: ALTURA - Importância: 3.1275765586%\n",
      "Atributo: LARGURA - Importância: 2.8773303709%\n",
      "Atributo: PESO - Importância: 2.0144658279%\n",
      " \n",
      "Atributos mais relevantes para a decisão se o produto é interessante/não interessante - estimador 1\n",
      "Atributo: ITEM_PRICE - Importância: 72.9460200896%\n",
      "Atributo: ALTURA - Importância: 3.4496610108%\n",
      "Atributo: PROFUNDIDADE - Importância: 3.1796330765%\n",
      "Atributo: LARGURA - Importância: 2.9911943690%\n",
      "Atributo: PESO - Importância: 2.0886483378%\n",
      " \n",
      "Atributos mais relevantes para a decisão se o produto é interessante/não interessante - estimador 2\n",
      "Atributo: ITEM_PRICE - Importância: 73.0465404015%\n",
      "Atributo: ALTURA - Importância: 3.4054988281%\n",
      "Atributo: PROFUNDIDADE - Importância: 3.2710735401%\n",
      "Atributo: LARGURA - Importância: 3.1442237849%\n",
      "Atributo: CAPACIDADE - Importância: 2.0356833731%\n",
      " \n",
      "Atributos mais relevantes para a decisão se o produto é interessante/não interessante - estimador 3\n",
      "Atributo: ITEM_PRICE - Importância: 72.7052378204%\n",
      "Atributo: PROFUNDIDADE - Importância: 3.2524777036%\n",
      "Atributo: ALTURA - Importância: 3.2487728236%\n",
      "Atributo: LARGURA - Importância: 3.2265842903%\n",
      "Atributo: PESO - Importância: 2.1269904917%\n",
      " \n",
      "Atributos mais relevantes para a decisão se o produto é interessante/não interessante - estimador 4\n",
      "Atributo: ITEM_PRICE - Importância: 73.3921584044%\n",
      "Atributo: ALTURA - Importância: 3.3176162194%\n",
      "Atributo: PROFUNDIDADE - Importância: 3.2296918117%\n",
      "Atributo: LARGURA - Importância: 3.1430024889%\n",
      "Atributo: PESO - Importância: 1.9834605155%\n",
      " \n"
     ]
    }
   ],
   "source": [
    "panela.carregar_produto()\n",
    "panela.calcular_dado_produto()\n",
    "panela.classificar_literal_produto()\n",
    "panela.aplicar_ml(escalar=True, excluir_linha_nulo=True, sem_kfold=False)"
   ]
  },
  {
   "cell_type": "markdown",
   "metadata": {},
   "source": [
    "Para as categorias com valores nulos, analisei e apliquei os modelos de forma separada excluindo as respectivas colunas"
   ]
  },
  {
   "cell_type": "markdown",
   "metadata": {},
   "source": [
    "- Categorias aonde as colunas LARGURA, ALTURA, PESO, PROFUNDIDADE são nulas <b>'CREMEIRA', 'COZI-PASTA'</b>"
   ]
  },
  {
   "cell_type": "code",
   "execution_count": 13,
   "metadata": {},
   "outputs": [
    {
     "name": "stdout",
     "output_type": "stream",
     "text": [
      "----------------------------------------------------------------------------------------------------\n",
      "Modelo Árvore de Decisão\n",
      "Matriz de Confusão:\n"
     ]
    },
    {
     "data": {
      "image/png": "[encoded data removed]",
      "text/plain": [
       "<Figure size 360x360 with 1 Axes>"
      ]
     },
     "metadata": {
      "needs_background": "light"
     },
     "output_type": "display_data"
    },
    {
     "name": "stdout",
     "output_type": "stream",
     "text": [
      "A acurácia foi de 77.78%.\n",
      "Atributos mais relevantes para a decisão se o produto é interessante/não interessante\n",
      "Atributo: ITEM_PRICE - Importância: 95.8333333333%\n",
      "Atributo: COR_INOX - Importância: 4.1666666667%\n",
      "Atributo: CAPACIDADE - Importância: 0.0000000000%\n",
      "Atributo: PARA_LAVA_LOUCAS - Importância: 0.0000000000%\n",
      "Atributo: PARA_MICRO_ONDAS - Importância: 0.0000000000%\n",
      "----------------------------------------------------------------------------------------------------\n",
      "Modelo SVC\n",
      "Matriz de Confusão:\n"
     ]
    },
    {
     "data": {
      "image/png": "[encoded data removed]",
      "text/plain": [
       "<Figure size 360x360 with 1 Axes>"
      ]
     },
     "metadata": {
      "needs_background": "light"
     },
     "output_type": "display_data"
    },
    {
     "name": "stdout",
     "output_type": "stream",
     "text": [
      "A acurácia foi de 66.67%.\n",
      "Não implementado o classificador\n",
      "----------------------------------------------------------------------------------------------------\n",
      "Modelo Regressão Logística\n",
      "Matriz de Confusão:\n"
     ]
    },
    {
     "data": {
      "image/png": "[encoded data removed]",
      "text/plain": [
       "<Figure size 360x360 with 1 Axes>"
      ]
     },
     "metadata": {
      "needs_background": "light"
     },
     "output_type": "display_data"
    },
    {
     "name": "stdout",
     "output_type": "stream",
     "text": [
      "A acurácia foi de 66.67%.\n",
      "Não implementado o classificador\n",
      "----------------------------------------------------------------------------------------------------\n",
      "Modelo Random Forest\n",
      "Matriz de Confusão:\n"
     ]
    },
    {
     "data": {
      "image/png": "[encoded data removed]",
      "text/plain": [
       "<Figure size 360x360 with 1 Axes>"
      ]
     },
     "metadata": {
      "needs_background": "light"
     },
     "output_type": "display_data"
    },
    {
     "name": "stdout",
     "output_type": "stream",
     "text": [
      "A acurácia foi de 77.78%.\n",
      "Atributos mais relevantes para a decisão se o produto é interessante/não interessante\n",
      "Atributo: ITEM_PRICE - Importância: 81.9533276329%\n",
      "Atributo: CAPACIDADE - Importância: 3.8685869951%\n",
      "Atributo: TIPO_PRODUTO_CREMEIRA - Importância: 3.5693280643%\n",
      "Atributo: TIPO_PRODUTO_COZI-PASTA - Importância: 3.1578973810%\n",
      "Atributo: TEMPO_GARANTIA - Importância: 2.8522032306%\n"
     ]
    }
   ],
   "source": [
    "panela.carregar_produto()\n",
    "panela.df_produto = panela.df_produto[panela.df_produto.ALTURA.isnull()].copy()\n",
    "panela.calcular_dado_produto()\n",
    "panela.classificar_literal_produto()\n",
    "panela.df_produto_ml.drop(columns=['LARGURA','ALTURA','PESO','PROFUNDIDADE'], inplace=True)\n",
    "panela.aplicar_ml(excluir_linha_nulo=False, escalar=True, sem_kfold=True)"
   ]
  },
  {
   "cell_type": "markdown",
   "metadata": {},
   "source": [
    "* Categoria aonde a coluna PESO é nula e a CAPACIDADE não é nula: <b>OMELETEIRA</b>"
   ]
  },
  {
   "cell_type": "code",
   "execution_count": 14,
   "metadata": {},
   "outputs": [
    {
     "name": "stdout",
     "output_type": "stream",
     "text": [
      "----------------------------------------------------------------------------------------------------\n",
      "Modelo Árvore de Decisão\n",
      "Matriz de Confusão:\n"
     ]
    },
    {
     "data": {
      "image/png": "[encoded data removed]",
      "text/plain": [
       "<Figure size 360x360 with 1 Axes>"
      ]
     },
     "metadata": {
      "needs_background": "light"
     },
     "output_type": "display_data"
    },
    {
     "name": "stdout",
     "output_type": "stream",
     "text": [
      "A acurácia foi de 73.47%.\n",
      "Atributos mais relevantes para a decisão se o produto é interessante/não interessante\n",
      "Atributo: ITEM_PRICE - Importância: 70.2901226969%\n",
      "Atributo: COR_VERMELHO - Importância: 15.1750174402%\n",
      "Atributo: LARGURA - Importância: 12.3230333621%\n",
      "Atributo: COR_TURQUESA - Importância: 2.2118265009%\n",
      "Atributo: ALTURA - Importância: 0.0000000000%\n",
      "----------------------------------------------------------------------------------------------------\n",
      "Modelo SVC\n",
      "Matriz de Confusão:\n"
     ]
    },
    {
     "data": {
      "image/png": "[encoded data removed]",
      "text/plain": [
       "<Figure size 360x360 with 1 Axes>"
      ]
     },
     "metadata": {
      "needs_background": "light"
     },
     "output_type": "display_data"
    },
    {
     "name": "stdout",
     "output_type": "stream",
     "text": [
      "A acurácia foi de 65.31%.\n",
      "Não implementado o classificador\n",
      "----------------------------------------------------------------------------------------------------\n",
      "Modelo Regressão Logística\n",
      "Matriz de Confusão:\n"
     ]
    },
    {
     "data": {
      "image/png": "[encoded data removed]",
      "text/plain": [
       "<Figure size 360x360 with 1 Axes>"
      ]
     },
     "metadata": {
      "needs_background": "light"
     },
     "output_type": "display_data"
    },
    {
     "name": "stdout",
     "output_type": "stream",
     "text": [
      "A acurácia foi de 69.39%.\n",
      "Não implementado o classificador\n",
      "----------------------------------------------------------------------------------------------------\n",
      "Modelo Random Forest\n",
      "Matriz de Confusão:\n"
     ]
    },
    {
     "data": {
      "image/png": "[encoded data removed]",
      "text/plain": [
       "<Figure size 360x360 with 1 Axes>"
      ]
     },
     "metadata": {
      "needs_background": "light"
     },
     "output_type": "display_data"
    },
    {
     "name": "stdout",
     "output_type": "stream",
     "text": [
      "A acurácia foi de 75.51%.\n",
      "Atributos mais relevantes para a decisão se o produto é interessante/não interessante\n",
      "Atributo: ITEM_PRICE - Importância: 70.7903968509%\n",
      "Atributo: COR_PRATA - Importância: 4.3243236918%\n",
      "Atributo: LARGURA - Importância: 3.8536813677%\n",
      "Atributo: COR_VERMELHO - Importância: 3.6394006489%\n",
      "Atributo: FORMATO_REDONDO - Importância: 3.3193109974%\n"
     ]
    }
   ],
   "source": [
    "panela.carregar_produto()\n",
    "panela.df_produto.drop(panela.df_produto[panela.df_produto.ALTURA.isnull()].index, inplace=True)\n",
    "panela.df_produto = panela.df_produto[(panela.df_produto.PESO.isnull()) &  (~panela.df_produto.CAPACIDADE.isnull())].copy()\n",
    "panela.calcular_dado_produto()\n",
    "panela.classificar_literal_produto()\n",
    "panela.df_produto_ml.drop(columns=['PESO'], inplace=True)\n",
    "panela.aplicar_ml(excluir_linha_nulo=False, escalar=True, sem_kfold=True)"
   ]
  },
  {
   "cell_type": "markdown",
   "metadata": {},
   "source": [
    "* Categoria aonde as colunas PESO e CAPACIDADE são nulas: <b>'CHAPA', 'FONDUE', 'MINI-CACAROLA', 'BIFETEIRA', 'CUMBUCA','FRITADEIRA', 'SANDUICHEIRA', 'FORMA', 'ASSADEIRA', 'TAMPA','FOGAREIRO', 'PRENSADOR', 'FORNO', 'CANECA/FERVEDOR'</b>"
   ]
  },
  {
   "cell_type": "code",
   "execution_count": 15,
   "metadata": {},
   "outputs": [
    {
     "name": "stdout",
     "output_type": "stream",
     "text": [
      "----------------------------------------------------------------------------------------------------\n",
      "Modelo Árvore de Decisão\n",
      "Matriz de Confusão:\n"
     ]
    },
    {
     "data": {
      "image/png": "[encoded data removed]",
      "text/plain": [
       "<Figure size 360x360 with 1 Axes>"
      ]
     },
     "metadata": {
      "needs_background": "light"
     },
     "output_type": "display_data"
    },
    {
     "name": "stdout",
     "output_type": "stream",
     "text": [
      "A acurácia foi de 69.49%.\n",
      "Atributos mais relevantes para a decisão se o produto é interessante/não interessante\n",
      "Atributo: ITEM_PRICE - Importância: 62.7260420969%\n",
      "Atributo: ALTURA - Importância: 9.3855128392%\n",
      "Atributo: TIPO_PRODUTO_CUMBUCA - Importância: 6.1353028904%\n",
      "Atributo: TIPO_PRODUTO_FONDUE - Importância: 5.8460883616%\n",
      "Atributo: FORMATO_REDONDO - Importância: 5.6192010729%\n",
      "----------------------------------------------------------------------------------------------------\n",
      "Modelo SVC\n",
      "Matriz de Confusão:\n"
     ]
    },
    {
     "data": {
      "image/png": "[encoded data removed]",
      "text/plain": [
       "<Figure size 360x360 with 1 Axes>"
      ]
     },
     "metadata": {
      "needs_background": "light"
     },
     "output_type": "display_data"
    },
    {
     "name": "stdout",
     "output_type": "stream",
     "text": [
      "A acurácia foi de 67.23%.\n",
      "Não implementado o classificador\n",
      "----------------------------------------------------------------------------------------------------\n",
      "Modelo Regressão Logística\n",
      "Matriz de Confusão:\n"
     ]
    },
    {
     "data": {
      "image/png": "[encoded data removed]",
      "text/plain": [
       "<Figure size 360x360 with 1 Axes>"
      ]
     },
     "metadata": {
      "needs_background": "light"
     },
     "output_type": "display_data"
    },
    {
     "name": "stdout",
     "output_type": "stream",
     "text": [
      "A acurácia foi de 67.51%.\n",
      "Não implementado o classificador\n",
      "----------------------------------------------------------------------------------------------------\n",
      "Modelo Random Forest\n",
      "Matriz de Confusão:\n"
     ]
    },
    {
     "data": {
      "image/png": "[encoded data removed]",
      "text/plain": [
       "<Figure size 360x360 with 1 Axes>"
      ]
     },
     "metadata": {
      "needs_background": "light"
     },
     "output_type": "display_data"
    },
    {
     "name": "stdout",
     "output_type": "stream",
     "text": [
      "A acurácia foi de 75.99%.\n",
      "Atributos mais relevantes para a decisão se o produto é interessante/não interessante\n",
      "Atributo: ITEM_PRICE - Importância: 63.5991561592%\n",
      "Atributo: PROFUNDIDADE - Importância: 4.7141217666%\n",
      "Atributo: LARGURA - Importância: 4.4923892378%\n",
      "Atributo: ALTURA - Importância: 4.3054065737%\n",
      "Atributo: FORMATO_REDONDO - Importância: 1.9155725922%\n"
     ]
    }
   ],
   "source": [
    "panela.carregar_produto()\n",
    "panela.df_produto.drop(panela.df_produto[panela.df_produto.ALTURA.isnull()].index, inplace=True)\n",
    "panela.df_produto.drop(panela.df_produto[(panela.df_produto.PESO.isnull()) &  (~panela.df_produto.CAPACIDADE.isnull())].index, inplace=True)\n",
    "panela.df_produto = panela.df_produto[(panela.df_produto.PESO.isnull()) &  (panela.df_produto.CAPACIDADE.isnull())].copy()\n",
    "panela.calcular_dado_produto()\n",
    "panela.classificar_literal_produto()\n",
    "panela.df_produto_ml.drop(columns=['PESO','CAPACIDADE'], inplace=True)\n",
    "panela.aplicar_ml(excluir_linha_nulo=False, escalar=True, sem_kfold=True)"
   ]
  },
  {
   "cell_type": "markdown",
   "metadata": {},
   "source": [
    "* Categoria aonde apenas a coluna CAPACIDADE é nula: <b>'CUSCUZEIRA', 'PANQUEQUEIRA', 'CUSCUZEIRO', 'BISTEQUEIRA','VAPORELLA'</b>"
   ]
  },
  {
   "cell_type": "code",
   "execution_count": 16,
   "metadata": {},
   "outputs": [
    {
     "name": "stdout",
     "output_type": "stream",
     "text": [
      "----------------------------------------------------------------------------------------------------\n",
      "Modelo Árvore de Decisão\n",
      "Matriz de Confusão:\n"
     ]
    },
    {
     "data": {
      "image/png": "[encoded data removed]",
      "text/plain": [
       "<Figure size 360x360 with 1 Axes>"
      ]
     },
     "metadata": {
      "needs_background": "light"
     },
     "output_type": "display_data"
    },
    {
     "name": "stdout",
     "output_type": "stream",
     "text": [
      "A acurácia foi de 76.36%.\n",
      "Atributos mais relevantes para a decisão se o produto é interessante/não interessante\n",
      "Atributo: ITEM_PRICE - Importância: 68.3026236503%\n",
      "Atributo: ALTURA - Importância: 10.0619773085%\n",
      "Atributo: PESO - Importância: 7.0601011978%\n",
      "Atributo: COMPOSICAO_INOX - Importância: 5.9738522110%\n",
      "Atributo: COR_CEREJA - Importância: 3.5360139228%\n",
      "----------------------------------------------------------------------------------------------------\n",
      "Modelo SVC\n",
      "Matriz de Confusão:\n"
     ]
    },
    {
     "data": {
      "image/png": "[encoded data removed]",
      "text/plain": [
       "<Figure size 360x360 with 1 Axes>"
      ]
     },
     "metadata": {
      "needs_background": "light"
     },
     "output_type": "display_data"
    },
    {
     "name": "stdout",
     "output_type": "stream",
     "text": [
      "A acurácia foi de 74.76%.\n",
      "Não implementado o classificador\n",
      "----------------------------------------------------------------------------------------------------\n",
      "Modelo Regressão Logística\n",
      "Matriz de Confusão:\n"
     ]
    },
    {
     "data": {
      "image/png": "[encoded data removed]",
      "text/plain": [
       "<Figure size 360x360 with 1 Axes>"
      ]
     },
     "metadata": {
      "needs_background": "light"
     },
     "output_type": "display_data"
    },
    {
     "name": "stdout",
     "output_type": "stream",
     "text": [
      "A acurácia foi de 74.76%.\n",
      "Não implementado o classificador\n",
      "----------------------------------------------------------------------------------------------------\n",
      "Modelo Random Forest\n",
      "Matriz de Confusão:\n"
     ]
    },
    {
     "data": {
      "image/png": "[encoded data removed]",
      "text/plain": [
       "<Figure size 360x360 with 1 Axes>"
      ]
     },
     "metadata": {
      "needs_background": "light"
     },
     "output_type": "display_data"
    },
    {
     "name": "stdout",
     "output_type": "stream",
     "text": [
      "A acurácia foi de 86.26%.\n",
      "Atributos mais relevantes para a decisão se o produto é interessante/não interessante\n",
      "Atributo: ITEM_PRICE - Importância: 91.4607557011%\n",
      "Atributo: PROFUNDIDADE - Importância: 1.1379614228%\n",
      "Atributo: ALTURA - Importância: 0.9243336289%\n",
      "Atributo: PESO - Importância: 0.7729996695%\n",
      "Atributo: LARGURA - Importância: 0.7383372488%\n"
     ]
    }
   ],
   "source": [
    "panela.carregar_produto()\n",
    "panela.df_produto.drop(panela.df_produto[panela.df_produto.ALTURA.isnull()].index, inplace=True)\n",
    "panela.df_produto.drop(panela.df_produto[(panela.df_produto.PESO.isnull()) &  (~panela.df_produto.CAPACIDADE.isnull())].index, inplace=True)\n",
    "panela.df_produto.drop(panela.df_produto[(panela.df_produto.PESO.isnull()) &  (panela.df_produto.CAPACIDADE.isnull())].index, inplace=True)\n",
    "panela.df_produto = panela.df_produto[panela.df_produto.CAPACIDADE.isnull()].copy()\n",
    "panela.calcular_dado_produto()\n",
    "panela.classificar_literal_produto()\n",
    "panela.df_produto_ml.drop(columns=['CAPACIDADE'], inplace=True)\n",
    "panela.aplicar_ml(excluir_linha_nulo=False, escalar=True, sem_kfold=True)"
   ]
  },
  {
   "cell_type": "markdown",
   "metadata": {},
   "source": [
    "<h4>CONCLUSÃO</h4>"
   ]
  },
  {
   "cell_type": "markdown",
   "metadata": {},
   "source": [
    "\n",
    "O seu objetivo principal é desenvolver um modelo que consiga classificar o produto entre \"interessante\" e \"não interessante\" dados os atributos do mesmo. Além disso, é desejável que você também consiga indicar quais são os atributos e respectivos valores que mais impulsionam o interesse do cliente.<br>\n",
    "\n",
    "Na análise o modelo Floresta aleatório a princípio é o modelo que melhor desempenha nesse caso.<br>\n",
    "É possível perceber que em todos os casos, os 5 primeiros atributos que mais definem se um produto é <i>interessante/não interessante</i> para o cliente, são:<br>"
   ]
  },
  {
   "cell_type": "code",
   "execution_count": null,
   "metadata": {},
   "outputs": [],
   "source": []
  }
 ],
 "metadata": {
  "kernelspec": {
   "display_name": "Python 3",
   "language": "python",
   "name": "python3"
  },
  "language_info": {
   "codemirror_mode": {
    "name": "ipython",
    "version": 3
   },
   "file_extension": ".py",
   "mimetype": "text/x-python",
   "name": "python",
   "nbconvert_exporter": "python",
   "pygments_lexer": "ipython3",
   "version": "3.7.4"
  }
 },
 "nbformat": 4,
 "nbformat_minor": 2
}
