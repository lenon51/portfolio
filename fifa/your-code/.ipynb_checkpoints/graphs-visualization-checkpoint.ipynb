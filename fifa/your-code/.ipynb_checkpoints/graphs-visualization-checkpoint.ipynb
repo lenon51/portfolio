{
 "cells": [
  {
   "cell_type": "code",
   "execution_count": 5,
   "metadata": {},
   "outputs": [],
   "source": [
    "import networkx as nx\n",
    "import matplotlib.pyplot as plt\n",
    "import pandas"
   ]
  },
  {
   "cell_type": "code",
   "execution_count": 145,
   "metadata": {},
   "outputs": [],
   "source": [
    "x = ['FRODO', 'FRODO','FRODO','FRODO', 'GANDALF','GANDALF','LEGOLAS','LEGOLAS','GOLLUM']\n",
    "y = ['GANDALF', 'ARAGORN','SAURON','SARUMAN','SARUMAN','LEGOLAS','GANDALF','FRODO','SAURON']\n",
    "d = {'friend','friend', 'enemy', 'enemy', 'frenemy', 'friend','friend','friend','enemy'}"
   ]
  },
  {
   "cell_type": "code",
   "execution_count": 102,
   "metadata": {},
   "outputs": [
    {
     "data": {
      "text/html": [
       "<div>\n",
       "<style scoped>\n",
       "    .dataframe tbody tr th:only-of-type {\n",
       "        vertical-align: middle;\n",
       "    }\n",
       "\n",
       "    .dataframe tbody tr th {\n",
       "        vertical-align: top;\n",
       "    }\n",
       "\n",
       "    .dataframe thead th {\n",
       "        text-align: right;\n",
       "    }\n",
       "</style>\n",
       "<table border=\"1\" class=\"dataframe\">\n",
       "  <thead>\n",
       "    <tr style=\"text-align: right;\">\n",
       "      <th></th>\n",
       "      <th>relacao</th>\n",
       "      <th>origem</th>\n",
       "      <th>destino</th>\n",
       "    </tr>\n",
       "  </thead>\n",
       "  <tbody>\n",
       "    <tr>\n",
       "      <th>0</th>\n",
       "      <td>friend</td>\n",
       "      <td>FRODO</td>\n",
       "      <td>GANDALF</td>\n",
       "    </tr>\n",
       "    <tr>\n",
       "      <th>1</th>\n",
       "      <td>friend</td>\n",
       "      <td>FRODO</td>\n",
       "      <td>ARAGORN</td>\n",
       "    </tr>\n",
       "    <tr>\n",
       "      <th>2</th>\n",
       "      <td>enemy</td>\n",
       "      <td>FRODO</td>\n",
       "      <td>SAURON</td>\n",
       "    </tr>\n",
       "    <tr>\n",
       "      <th>3</th>\n",
       "      <td>enemy</td>\n",
       "      <td>FRODO</td>\n",
       "      <td>SARUMAN</td>\n",
       "    </tr>\n",
       "    <tr>\n",
       "      <th>4</th>\n",
       "      <td>frenemy</td>\n",
       "      <td>GANDALF</td>\n",
       "      <td>SARUMAN</td>\n",
       "    </tr>\n",
       "    <tr>\n",
       "      <th>5</th>\n",
       "      <td>friend</td>\n",
       "      <td>GANDALF</td>\n",
       "      <td>LEGOLAS</td>\n",
       "    </tr>\n",
       "    <tr>\n",
       "      <th>6</th>\n",
       "      <td>friend</td>\n",
       "      <td>LEGOLAS</td>\n",
       "      <td>GANDALF</td>\n",
       "    </tr>\n",
       "    <tr>\n",
       "      <th>7</th>\n",
       "      <td>friend</td>\n",
       "      <td>LEGOLAS</td>\n",
       "      <td>FRODO</td>\n",
       "    </tr>\n",
       "    <tr>\n",
       "      <th>8</th>\n",
       "      <td>enemy</td>\n",
       "      <td>GOLLUM</td>\n",
       "      <td>SAURON</td>\n",
       "    </tr>\n",
       "  </tbody>\n",
       "</table>\n",
       "</div>"
      ],
      "text/plain": [
       "   relacao   origem  destino\n",
       "0   friend    FRODO  GANDALF\n",
       "1   friend    FRODO  ARAGORN\n",
       "2    enemy    FRODO   SAURON\n",
       "3    enemy    FRODO  SARUMAN\n",
       "4  frenemy  GANDALF  SARUMAN\n",
       "5   friend  GANDALF  LEGOLAS\n",
       "6   friend  LEGOLAS  GANDALF\n",
       "7   friend  LEGOLAS    FRODO\n",
       "8    enemy   GOLLUM   SAURON"
      ]
     },
     "execution_count": 102,
     "metadata": {},
     "output_type": "execute_result"
    }
   ],
   "source": [
    "connections = pandas.concat( [pandas.DataFrame(d, columns=['relacao']), pandas.DataFrame(x, columns=['origem']), pandas.DataFrame(y, columns=['destino']) ], axis=1)\n",
    "connections"
   ]
  },
  {
   "cell_type": "code",
   "execution_count": 122,
   "metadata": {},
   "outputs": [],
   "source": [
    "G = nx.Graph()"
   ]
  },
  {
   "cell_type": "code",
   "execution_count": 217,
   "metadata": {},
   "outputs": [],
   "source": [
    "G.add_nodes_from(x)\n",
    "G.add_nodes_from(connections.destino)"
   ]
  },
  {
   "cell_type": "code",
   "execution_count": 218,
   "metadata": {},
   "outputs": [
    {
     "data": {
      "text/plain": [
       "NodeView(('FRODO', 'GANDALF', 'LEGOLAS', 'GOLLUM', 'ARAGORN', 'SAURON', 'SARUMAN'))"
      ]
     },
     "execution_count": 218,
     "metadata": {},
     "output_type": "execute_result"
    }
   ],
   "source": [
    "G.nodes()"
   ]
  },
  {
   "cell_type": "code",
   "execution_count": 219,
   "metadata": {},
   "outputs": [
    {
     "name": "stderr",
     "output_type": "stream",
     "text": [
      "/Library/anaconda3/lib/python3.7/site-packages/networkx/drawing/nx_pylab.py:611: MatplotlibDeprecationWarning:\n",
      "\n",
      "\n",
      "The is_numlike function was deprecated in Matplotlib 3.0 and will be removed in 3.2. Use isinstance(..., numbers.Number) instead.\n",
      "\n"
     ]
    },
    {
     "data": {
      "image/png": "[encoded data removed]",
      "text/plain": [
       "<Figure size 432x288 with 1 Axes>"
      ]
     },
     "metadata": {},
     "output_type": "display_data"
    }
   ],
   "source": [
    "nx.draw(G, with_labels=True)"
   ]
  },
  {
   "cell_type": "code",
   "execution_count": 220,
   "metadata": {},
   "outputs": [
    {
     "data": {
      "text/plain": [
       "[('FRODO', 'GANDALF'),\n",
       " ('FRODO', 'ARAGORN'),\n",
       " ('FRODO', 'SAURON'),\n",
       " ('FRODO', 'SARUMAN'),\n",
       " ('GANDALF', 'SARUMAN'),\n",
       " ('GANDALF', 'LEGOLAS'),\n",
       " ('LEGOLAS', 'GANDALF'),\n",
       " ('LEGOLAS', 'FRODO'),\n",
       " ('GOLLUM', 'SAURON')]"
      ]
     },
     "execution_count": 220,
     "metadata": {},
     "output_type": "execute_result"
    }
   ],
   "source": [
    "list(zip(connections.origem,connections.destino),)"
   ]
  },
  {
   "cell_type": "code",
   "execution_count": 223,
   "metadata": {},
   "outputs": [
    {
     "data": {
      "text/plain": [
       "[('FRODO', 'GANDALF'),\n",
       " ('FRODO', 'ARAGORN'),\n",
       " ('FRODO', 'SAURON'),\n",
       " ('FRODO', 'SARUMAN'),\n",
       " ('GANDALF', 'SARUMAN'),\n",
       " ('GANDALF', 'LEGOLAS'),\n",
       " ('LEGOLAS', 'GANDALF'),\n",
       " ('LEGOLAS', 'FRODO'),\n",
       " ('GOLLUM', 'SAURON')]"
      ]
     },
     "execution_count": 223,
     "metadata": {},
     "output_type": "execute_result"
    }
   ],
   "source": [
    "list(zip(connections.origem,connections.destino))"
   ]
  },
  {
   "cell_type": "code",
   "execution_count": 224,
   "metadata": {},
   "outputs": [],
   "source": [
    "G.add_edges_from(list(zip(connections.origem,connections.destino)),  )"
   ]
  },
  {
   "cell_type": "code",
   "execution_count": 225,
   "metadata": {},
   "outputs": [
    {
     "data": {
      "text/plain": [
       "EdgeView([('FRODO', 'GANDALF'), ('FRODO', 'ARAGORN'), ('FRODO', 'SAURON'), ('FRODO', 'SARUMAN'), ('FRODO', 'LEGOLAS'), ('GANDALF', 'SARUMAN'), ('GANDALF', 'LEGOLAS'), ('GOLLUM', 'SAURON')])"
      ]
     },
     "execution_count": 225,
     "metadata": {},
     "output_type": "execute_result"
    }
   ],
   "source": [
    "G.edges"
   ]
  },
  {
   "cell_type": "code",
   "execution_count": 226,
   "metadata": {},
   "outputs": [],
   "source": [
    "list_of_edges = list(G.edges(data=True))"
   ]
  },
  {
   "cell_type": "code",
   "execution_count": 227,
   "metadata": {},
   "outputs": [
    {
     "data": {
      "text/plain": [
       "[('FRODO', 'GANDALF', {}),\n",
       " ('FRODO', 'ARAGORN', {}),\n",
       " ('FRODO', 'SAURON', {}),\n",
       " ('FRODO', 'SARUMAN', {}),\n",
       " ('FRODO', 'LEGOLAS', {}),\n",
       " ('GANDALF', 'SARUMAN', {}),\n",
       " ('GANDALF', 'LEGOLAS', {}),\n",
       " ('GOLLUM', 'SAURON', {})]"
      ]
     },
     "execution_count": 227,
     "metadata": {},
     "output_type": "execute_result"
    }
   ],
   "source": [
    "list_of_edges"
   ]
  },
  {
   "cell_type": "code",
   "execution_count": 230,
   "metadata": {},
   "outputs": [
    {
     "data": {
      "image/png": "[encoded data removed]",
      "text/plain": [
       "<Figure size 432x288 with 1 Axes>"
      ]
     },
     "metadata": {},
     "output_type": "display_data"
    }
   ],
   "source": [
    "ax = nx.draw(G, with_labels=True, )\n",
    "# nx.draw_networkx_edge_labels(dG, pos = nx.spring_layout(dG), ax=ax)\n"
   ]
  },
  {
   "cell_type": "code",
   "execution_count": null,
   "metadata": {},
   "outputs": [],
   "source": []
  }
 ],
 "metadata": {
  "kernelspec": {
   "display_name": "Python 3",
   "language": "python",
   "name": "python3"
  },
  "language_info": {
   "codemirror_mode": {
    "name": "ipython",
    "version": 3
   },
   "file_extension": ".py",
   "mimetype": "text/x-python",
   "name": "python",
   "nbconvert_exporter": "python",
   "pygments_lexer": "ipython3",
   "version": "3.7.3"
  }
 },
 "nbformat": 4,
 "nbformat_minor": 2
}
