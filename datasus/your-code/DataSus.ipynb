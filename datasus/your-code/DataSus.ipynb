{
 "cells": [
  {
   "cell_type": "code",
   "execution_count": null,
   "metadata": {},
   "outputs": [],
   "source": [
    "import pandas as pd\n",
    "import datetime\n",
    "import unidecode\n",
    "import re\n",
    "from bs4 import BeautifulSoup\n",
    "import requests\n",
    "import os\n",
    "import glob"
   ]
  },
  {
   "cell_type": "code",
   "execution_count": null,
   "metadata": {},
   "outputs": [],
   "source": [
    "lst_arquivo = glob.glob(os.path.join(r'data\\datasus','*.csv'))\n",
    "data = pd.concat(pd.read_csv(i) for i in lst_arquivo)"
   ]
  },
  {
   "cell_type": "code",
   "execution_count": null,
   "metadata": {},
   "outputs": [],
   "source": [
    "# pd.set_option('display.max_columns', None)\n",
    "# pd.set_option('display.max_rows', None)"
   ]
  },
  {
   "cell_type": "code",
   "execution_count": null,
   "metadata": {},
   "outputs": [],
   "source": [
    "data.head()"
   ]
  },
  {
   "cell_type": "code",
   "execution_count": null,
   "metadata": {},
   "outputs": [],
   "source": [
    "data_dep= data[['CAUSABAS',\n",
    "               'DTOBITO','DTNASC',\n",
    "               'SEXO','RACACOR',\n",
    "               'ESTCIV','ESC',\n",
    "               'LOCOCOR','CODMUNOCOR',\n",
    "               'GESTACAO','PESO',\n",
    "               'CIRCOBITO','CAUSABAS_O']]"
   ]
  },
  {
   "cell_type": "code",
   "execution_count": null,
   "metadata": {},
   "outputs": [],
   "source": [
    "data_dep.shape"
   ]
  },
  {
   "cell_type": "code",
   "execution_count": null,
   "metadata": {},
   "outputs": [],
   "source": [
    "# data_dep= data[(data.CAUSABAS.str.startswith('X84')) | (data.CAUSABAS.str.startswith('X60'))][['CAUSABAS',\n",
    "#                                                                                                'DTOBITO','DTNASC',\n",
    "#                                                                                                'SEXO','RACACOR',\n",
    "#                                                                                                'ESTCIV','ESC',\n",
    "#                                                                                                'LOCOCOR','CODMUNOCOR',\n",
    "#                                                                                                'GESTACAO','PESO',\n",
    "#                                                                                                'CIRCOBITO','CAUSABAS_O']]"
   ]
  },
  {
   "cell_type": "code",
   "execution_count": null,
   "metadata": {},
   "outputs": [],
   "source": [
    "data_dep['DTOBITO'] = data_dep.DTOBITO.astype(str)\n",
    "data_dep['DTNASC'] = data_dep.DTNASC.astype(str)"
   ]
  },
  {
   "cell_type": "code",
   "execution_count": null,
   "metadata": {},
   "outputs": [],
   "source": [
    "data_mun = pd.read_csv(r'data\\tabmun.csv')"
   ]
  },
  {
   "cell_type": "code",
   "execution_count": null,
   "metadata": {},
   "outputs": [],
   "source": [
    "data_mun.CODMUN = data_mun.CODMUN.astype(str)\n",
    "data_mun['CODMUN6'] = data_mun.CODMUN.str[0:6]\n",
    "data_mun.CODMUN6 = data_mun.CODMUN6.astype(int)"
   ]
  },
  {
   "cell_type": "code",
   "execution_count": null,
   "metadata": {},
   "outputs": [],
   "source": [
    "data_dep = pd.merge(data_dep, data_mun, left_on='CODMUNOCOR', right_on='CODMUN6')"
   ]
  },
  {
   "cell_type": "code",
   "execution_count": null,
   "metadata": {},
   "outputs": [],
   "source": [
    "def tratar_racacor(racacor):\n",
    "    if racacor == 1:\n",
    "        return 'BRANCA'\n",
    "    elif racacor == 2:\n",
    "        return 'PRETA'\n",
    "    elif racacor == 3:\n",
    "        return 'PRETA'\n",
    "    elif racacor == 4:\n",
    "        return 'PARDA'\n",
    "    elif racacor == 5:\n",
    "        return 'INDIGENA'\n",
    "    else:\n",
    "        return 'NA'"
   ]
  },
  {
   "cell_type": "code",
   "execution_count": null,
   "metadata": {},
   "outputs": [],
   "source": [
    "def tratar_estadocivil(civil):\n",
    "    if civil == 1:\n",
    "        return 'SOLTEIRO'\n",
    "    elif civil == 2:\n",
    "        return 'CASADO'\n",
    "    elif civil == 3:\n",
    "        return 'VIUVO'\n",
    "    elif civil == 4:\n",
    "        return 'SEPARADO'\n",
    "    elif civil == 5:\n",
    "        return 'UNIAO CONSENSUAL'\n",
    "    else:\n",
    "        return 'NA'"
   ]
  },
  {
   "cell_type": "code",
   "execution_count": null,
   "metadata": {},
   "outputs": [],
   "source": [
    "def tratar_sexo(sexo):\n",
    "    if sexo == 1:\n",
    "        return 'MASCULINO'\n",
    "    elif sexo == 2:\n",
    "        return 'FEMININO'\n",
    "    else:\n",
    "        return 'NA'"
   ]
  },
  {
   "cell_type": "code",
   "execution_count": null,
   "metadata": {},
   "outputs": [],
   "source": [
    "def tratar_obito(obito):\n",
    "    if obito == 1:\n",
    "        return 'ACIDENTE'\n",
    "    elif obito == 2:\n",
    "        return 'SUICIDIO'\n",
    "    elif obito == 3:\n",
    "        return 'HOMICIDIO'\n",
    "    elif obito == 4:\n",
    "        return 'OUTRO'\n",
    "    else:\n",
    "        return 'NA'"
   ]
  },
  {
   "cell_type": "code",
   "execution_count": null,
   "metadata": {},
   "outputs": [],
   "source": [
    "def tratar_idade(series):\n",
    "    data_obito = str(series['DTOBITO'])\n",
    "    data_nasci = str(series['DTNASC'])\n",
    "    data_nasci = data_nasci.replace('.0','').replace('nan','')\n",
    "    if len(data_obito) < 8:\n",
    "        data_obito = '0' + data_obito\n",
    "    \n",
    "    if len(data_nasci) < 8 and len(data_nasci) > 0:\n",
    "        data_nasci = '0' + data_nasci\n",
    "    \n",
    "    if data_nasci != '' and data_nasci != 0:\n",
    "        dias = datetime.datetime.strptime(data_obito, '%d%m%Y').year - datetime.datetime.strptime(data_nasci, '%d%m%Y').year\n",
    "    else:\n",
    "        dias = None\n",
    "    return dias"
   ]
  },
  {
   "cell_type": "code",
   "execution_count": null,
   "metadata": {},
   "outputs": [],
   "source": [
    "# def tratar_causa(causa):\n",
    "#     '''CID - Classificação Internacional de Doenças\n",
    "#         CID 10 - X84   \tLesão autoprovocada intencionalmente por meios não especificados\n",
    "#         CID 10 - X60   \tAuto-intoxicação por e exposição, intencional, a analgésicos, antipiréticos e anti-reumáticos, não-opiáceos\n",
    "#     '''\n",
    "#     if causa.startswith('X84'):\n",
    "#         return 'Lesão autoprovocada intencionalmente por meios não especificados'\n",
    "#     else:\n",
    "#         return 'Auto-intoxicação por e exposição, intencional, a analgésicos, antipiréticos e anti-reumáticos, não-opiáceos'"
   ]
  },
  {
   "cell_type": "code",
   "execution_count": null,
   "metadata": {},
   "outputs": [],
   "source": [
    "data_dep['NMRACACOR'] = data_dep.RACACOR.apply(tratar_racacor)\n",
    "data_dep['NMESTCIV'] = data_dep.ESTCIV.apply(tratar_estadocivil)\n",
    "data_dep['NMSEXO'] = data_dep.SEXO.apply(tratar_sexo)\n",
    "data_dep['NMCIRCOBITO'] = data_dep.CIRCOBITO.apply(tratar_obito)\n",
    "#data_dep['NMCAUSABAS_O'] = data_dep.CAUSABAS_O.apply(tratar_causa)\n",
    "data_dep['IDADE'] = data_dep.apply(tratar_idade, axis=1)"
   ]
  },
  {
   "cell_type": "code",
   "execution_count": null,
   "metadata": {},
   "outputs": [],
   "source": [
    "data_idhm = pd.read_csv(r'data\\IDHM_2010_Brasil.csv',\n",
    "                        encoding='latin-1',\n",
    "                        header=1,\n",
    "                        sep=';')"
   ]
  },
  {
   "cell_type": "code",
   "execution_count": null,
   "metadata": {},
   "outputs": [],
   "source": [
    "data_idhm.Nome = data_idhm.Nome.apply(lambda x: unidecode.unidecode(x).upper())\n",
    "data_idhm['UF'] = data_idhm.Nome.apply(lambda x: re.findall('\\(.*?\\)',x)[0].replace('(','').replace(')',''))\n",
    "data_idhm.Nome = data_idhm.Nome.apply(lambda x: ''.join(re.findall('\\w*[^(^\\w\\)]',x)).strip())\n",
    "data_idhm['Posição'] = data_idhm['Posição'].apply(lambda x: x.replace('º','').strip())\n",
    "data_idhm['Posição'] = data_idhm['Posição'].astype(int)"
   ]
  },
  {
   "cell_type": "code",
   "execution_count": null,
   "metadata": {},
   "outputs": [],
   "source": [
    "data_dep = pd.merge(data_dep, data_idhm, left_on=['NOMMUN','ESTMUN'], right_on=['Nome','UF'])"
   ]
  },
  {
   "cell_type": "code",
   "execution_count": null,
   "metadata": {},
   "outputs": [],
   "source": [
    "data_dep.shape"
   ]
  },
  {
   "cell_type": "code",
   "execution_count": null,
   "metadata": {},
   "outputs": [],
   "source": [
    "url = 'http://www.medicinanet.com.br/categorias/lista_cid10.htm'\n",
    "soup = BeautifulSoup(requests.get(url).text)"
   ]
  },
  {
   "cell_type": "code",
   "execution_count": null,
   "metadata": {},
   "outputs": [],
   "source": [
    "lst_cid = [item.text.replace('\\xa0',' ') for item in soup.find(\"div\", {\"id\": \"texto\"}).findAll('a')]\n",
    "dic_cid = {item.split('-')[0].strip().replace('.',''):item.split('-')[1].strip() for item in lst_cid}\n",
    "data_cid = pd.DataFrame(list(dic_cid.items()), columns=['CODCID','NMCID'])"
   ]
  },
  {
   "cell_type": "code",
   "execution_count": null,
   "metadata": {},
   "outputs": [],
   "source": [
    "data_cid.head()"
   ]
  },
  {
   "cell_type": "code",
   "execution_count": null,
   "metadata": {},
   "outputs": [],
   "source": [
    "data_dep = pd.merge(data_dep, data_cid, left_on='CAUSABAS', right_on='CODCID')"
   ]
  },
  {
   "cell_type": "code",
   "execution_count": null,
   "metadata": {},
   "outputs": [],
   "source": [
    "data_dep.shape"
   ]
  },
  {
   "cell_type": "code",
   "execution_count": null,
   "metadata": {},
   "outputs": [],
   "source": [
    "data_dep.dtypes"
   ]
  },
  {
   "cell_type": "code",
   "execution_count": null,
   "metadata": {},
   "outputs": [],
   "source": [
    "data_dep.head()"
   ]
  },
  {
   "cell_type": "code",
   "execution_count": null,
   "metadata": {},
   "outputs": [],
   "source": [
    "#ren = lambda x:''.join(re.findall('[\\w\\s]',x)).replace(' ', '_').lower()\n",
    "#admissions = admissions.rename(columns={item: ren(item) for item in admissions.columns})\n",
    "\n",
    "data_dep = data_dep.rename(columns={'IDHM (2010)': 'IDHM',\n",
    "                                     'IDHM Renda (2010)':'IDHM_RENDA',\n",
    "                                     'IDHM Longevidade (2010)': 'IDHM_LONGEVIDADE',\n",
    "                                     'IDHM Educação (2010)': 'IDHM_EDUCACAO',\n",
    "                                     'Posição':'POSICAO',\n",
    "                                   'Nome':'NOME'})\n",
    "data_dep.columns"
   ]
  },
  {
   "cell_type": "code",
   "execution_count": null,
   "metadata": {},
   "outputs": [],
   "source": [
    "data_dep.head(1).T"
   ]
  },
  {
   "cell_type": "code",
   "execution_count": null,
   "metadata": {},
   "outputs": [],
   "source": [
    "data_dep = data_dep[['CAUSABAS', 'DTOBITO','CAUSABAS_O',\n",
    "       'NOMMUN', 'NMRACACOR', 'NMESTCIV','NMCIRCOBITO',\n",
    "       'NMSEXO', 'IDADE', 'POSICAO', 'NOME', 'IDHM','UF','CODCID',\n",
    "       'NMCID']]"
   ]
  },
  {
   "cell_type": "code",
   "execution_count": null,
   "metadata": {},
   "outputs": [],
   "source": [
    "data_dep.to_csv('data\\datasus.csv')"
   ]
  },
  {
   "cell_type": "code",
   "execution_count": null,
   "metadata": {},
   "outputs": [],
   "source": [
    "data_dep.head(5)"
   ]
  },
  {
   "cell_type": "code",
   "execution_count": null,
   "metadata": {},
   "outputs": [],
   "source": [
    "data.columns"
   ]
  },
  {
   "cell_type": "code",
   "execution_count": null,
   "metadata": {},
   "outputs": [],
   "source": [
    "data['DTNASC'].isnull().sum()"
   ]
  }
 ],
 "metadata": {
  "kernelspec": {
   "display_name": "Python 3",
   "language": "python",
   "name": "python3"
  },
  "language_info": {
   "codemirror_mode": {
    "name": "ipython",
    "version": 3
   },
   "file_extension": ".py",
   "mimetype": "text/x-python",
   "name": "python",
   "nbconvert_exporter": "python",
   "pygments_lexer": "ipython3",
   "version": "3.7.4"
  }
 },
 "nbformat": 4,
 "nbformat_minor": 2
}
