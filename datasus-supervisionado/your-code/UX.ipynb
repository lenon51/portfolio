{
 "cells": [
  {
   "cell_type": "markdown",
   "metadata": {},
   "source": [
    "SIH - Sistema de Informações Hospitalares"
   ]
  },
  {
   "cell_type": "markdown",
   "metadata": {},
   "source": [
    "SIH é o sistema que registra  toda  a  produção  de  internações  no  âmbito  do  SUS  com  a  finalidade  de remuneração dos serviços prestados. Abase de dados doSIH é alimentada poruminstrumento de coleta, AIH –Autorização de  Internação  Hospitalar, que  é  preenchidopelos  estabelecimentos  de  saúde  para cada  internação.Cada  internação  gera  uma  AIH  que  contem,  além  do  número  que identifica a autorização de internação, dados de identificação do paciente, registro dos procedimentos  médicos  e  serviços de  diagnose  e  terapia  e  código  da  doença diagnosticada (CID)"
   ]
  },
  {
   "cell_type": "code",
   "execution_count": 1,
   "metadata": {},
   "outputs": [],
   "source": [
    "import pandas as pd"
   ]
  },
  {
   "cell_type": "code",
   "execution_count": 2,
   "metadata": {},
   "outputs": [
    {
     "name": "stderr",
     "output_type": "stream",
     "text": [
      "c:\\users\\lguimara\\appdata\\local\\programs\\python\\python37-32\\lib\\site-packages\\IPython\\core\\interactiveshell.py:3058: DtypeWarning: Columns (16,25) have mixed types. Specify dtype option on import or set low_memory=False.\n",
      "  interactivity=interactivity, compiler=compiler, result=result)\n"
     ]
    }
   ],
   "source": [
    "data = pd.read_csv(r'data\\SPSP1802.zip',encoding='latin-1',nrows=100000)"
   ]
  },
  {
   "cell_type": "markdown",
   "metadata": {},
   "source": [
    "PROCREA - Procedimento Realizado"
   ]
  },
  {
   "cell_type": "code",
   "execution_count": 3,
   "metadata": {},
   "outputs": [],
   "source": [
    "data_proc = pd.read_csv(r'data\\TPROCUNI.csv',encoding='latin-1')"
   ]
  },
  {
   "cell_type": "code",
   "execution_count": 5,
   "metadata": {},
   "outputs": [
    {
     "data": {
      "text/html": [
       "<div>\n",
       "<style scoped>\n",
       "    .dataframe tbody tr th:only-of-type {\n",
       "        vertical-align: middle;\n",
       "    }\n",
       "\n",
       "    .dataframe tbody tr th {\n",
       "        vertical-align: top;\n",
       "    }\n",
       "\n",
       "    .dataframe thead th {\n",
       "        text-align: right;\n",
       "    }\n",
       "</style>\n",
       "<table border=\"1\" class=\"dataframe\">\n",
       "  <thead>\n",
       "    <tr style=\"text-align: right;\">\n",
       "      <th></th>\n",
       "      <th>IP_COD</th>\n",
       "      <th>IP_DSCR</th>\n",
       "      <th>COMPET</th>\n",
       "    </tr>\n",
       "  </thead>\n",
       "  <tbody>\n",
       "    <tr>\n",
       "      <td>0</td>\n",
       "      <td>101010010</td>\n",
       "      <td>ATIVIDADE EDUCATIVA / ORIENTAÇÃO EM GRUPO NA A...</td>\n",
       "      <td>201905</td>\n",
       "    </tr>\n",
       "  </tbody>\n",
       "</table>\n",
       "</div>"
      ],
      "text/plain": [
       "      IP_COD                                            IP_DSCR  COMPET\n",
       "0  101010010  ATIVIDADE EDUCATIVA / ORIENTAÇÃO EM GRUPO NA A...  201905"
      ]
     },
     "execution_count": 5,
     "metadata": {},
     "output_type": "execute_result"
    }
   ],
   "source": [
    "data_proc.head(1)"
   ]
  },
  {
   "cell_type": "markdown",
   "metadata": {},
   "source": [
    "CNES - Cadastro Nacional de Estabelecimento de Saúde"
   ]
  },
  {
   "cell_type": "code",
   "execution_count": 10,
   "metadata": {},
   "outputs": [],
   "source": [
    "data_cnes = pd.read_csv(r'data\\TCNESSP.csv',encoding='latin-1')"
   ]
  },
  {
   "cell_type": "code",
   "execution_count": 12,
   "metadata": {},
   "outputs": [
    {
     "data": {
      "text/html": [
       "<div>\n",
       "<style scoped>\n",
       "    .dataframe tbody tr th:only-of-type {\n",
       "        vertical-align: middle;\n",
       "    }\n",
       "\n",
       "    .dataframe tbody tr th {\n",
       "        vertical-align: top;\n",
       "    }\n",
       "\n",
       "    .dataframe thead th {\n",
       "        text-align: right;\n",
       "    }\n",
       "</style>\n",
       "<table border=\"1\" class=\"dataframe\">\n",
       "  <thead>\n",
       "    <tr style=\"text-align: right;\">\n",
       "      <th></th>\n",
       "      <th>CNES</th>\n",
       "      <th>NOMEFANT</th>\n",
       "      <th>UF_ZI</th>\n",
       "      <th>CMPT</th>\n",
       "    </tr>\n",
       "  </thead>\n",
       "  <tbody>\n",
       "    <tr>\n",
       "      <td>0</td>\n",
       "      <td>8028</td>\n",
       "      <td>HOSPITAL MUNICIPAL ANTONIO GIGLIO</td>\n",
       "      <td>35</td>\n",
       "      <td>201905</td>\n",
       "    </tr>\n",
       "  </tbody>\n",
       "</table>\n",
       "</div>"
      ],
      "text/plain": [
       "   CNES                           NOMEFANT  UF_ZI    CMPT\n",
       "0  8028  HOSPITAL MUNICIPAL ANTONIO GIGLIO     35  201905"
      ]
     },
     "execution_count": 12,
     "metadata": {},
     "output_type": "execute_result"
    }
   ],
   "source": [
    "data_cnes.head(1)"
   ]
  },
  {
   "cell_type": "code",
   "execution_count": 16,
   "metadata": {},
   "outputs": [],
   "source": [
    "data_gestor = pd.read_csv(r'data\\LIBGESTOR.csv',encoding='latin-1')"
   ]
  },
  {
   "cell_type": "code",
   "execution_count": 20,
   "metadata": {},
   "outputs": [
    {
     "data": {
      "text/html": [
       "<div>\n",
       "<style scoped>\n",
       "    .dataframe tbody tr th:only-of-type {\n",
       "        vertical-align: middle;\n",
       "    }\n",
       "\n",
       "    .dataframe tbody tr th {\n",
       "        vertical-align: top;\n",
       "    }\n",
       "\n",
       "    .dataframe thead th {\n",
       "        text-align: right;\n",
       "    }\n",
       "</style>\n",
       "<table border=\"1\" class=\"dataframe\">\n",
       "  <thead>\n",
       "    <tr style=\"text-align: right;\">\n",
       "      <th></th>\n",
       "      <th>COD_LIB</th>\n",
       "      <th>DESC_LIB</th>\n",
       "    </tr>\n",
       "  </thead>\n",
       "  <tbody>\n",
       "    <tr>\n",
       "      <td>0</td>\n",
       "      <td>CO_IT</td>\n",
       "      <td>DS_DESCRICAO</td>\n",
       "    </tr>\n",
       "    <tr>\n",
       "      <td>1</td>\n",
       "      <td>00001</td>\n",
       "      <td>TEMPO DE PERMANENCIA</td>\n",
       "    </tr>\n",
       "    <tr>\n",
       "      <td>2</td>\n",
       "      <td>00002</td>\n",
       "      <td>IDADE MENOR</td>\n",
       "    </tr>\n",
       "    <tr>\n",
       "      <td>3</td>\n",
       "      <td>00003</td>\n",
       "      <td>IDADE MAIOR</td>\n",
       "    </tr>\n",
       "    <tr>\n",
       "      <td>4</td>\n",
       "      <td>00004</td>\n",
       "      <td>TEMPO DE PERMANENCIA E IDADE</td>\n",
       "    </tr>\n",
       "    <tr>\n",
       "      <td>...</td>\n",
       "      <td>...</td>\n",
       "      <td>...</td>\n",
       "    </tr>\n",
       "    <tr>\n",
       "      <td>209</td>\n",
       "      <td>239</td>\n",
       "      <td>CNS E TELEFONE E CBO E QTD E PERM. MENOR</td>\n",
       "    </tr>\n",
       "    <tr>\n",
       "      <td>210</td>\n",
       "      <td>240</td>\n",
       "      <td>CNS E TELEFONE E CBO E QTD E ID. MENOR</td>\n",
       "    </tr>\n",
       "    <tr>\n",
       "      <td>211</td>\n",
       "      <td>241</td>\n",
       "      <td>CNS E TELEFONE E CBO E QTD E ID. MENOR E PERM....</td>\n",
       "    </tr>\n",
       "    <tr>\n",
       "      <td>212</td>\n",
       "      <td>242</td>\n",
       "      <td>CNS E TELEFONE E CBO E QTD E ID. MAIOR</td>\n",
       "    </tr>\n",
       "    <tr>\n",
       "      <td>213</td>\n",
       "      <td>243</td>\n",
       "      <td>CNS E TELEFONE E CBO E QTD E ID. MAIOR E PERM....</td>\n",
       "    </tr>\n",
       "  </tbody>\n",
       "</table>\n",
       "<p>214 rows × 2 columns</p>\n",
       "</div>"
      ],
      "text/plain": [
       "    COD_LIB                                           DESC_LIB\n",
       "0     CO_IT                                       DS_DESCRICAO\n",
       "1     00001                               TEMPO DE PERMANENCIA\n",
       "2     00002                                        IDADE MENOR\n",
       "3     00003                                        IDADE MAIOR\n",
       "4     00004                       TEMPO DE PERMANENCIA E IDADE\n",
       "..      ...                                                ...\n",
       "209     239           CNS E TELEFONE E CBO E QTD E PERM. MENOR\n",
       "210     240             CNS E TELEFONE E CBO E QTD E ID. MENOR\n",
       "211     241  CNS E TELEFONE E CBO E QTD E ID. MENOR E PERM....\n",
       "212     242             CNS E TELEFONE E CBO E QTD E ID. MAIOR\n",
       "213     243  CNS E TELEFONE E CBO E QTD E ID. MAIOR E PERM....\n",
       "\n",
       "[214 rows x 2 columns]"
      ]
     },
     "execution_count": 20,
     "metadata": {},
     "output_type": "execute_result"
    }
   ],
   "source": [
    "data_gestor"
   ]
  },
  {
   "cell_type": "code",
   "execution_count": 7,
   "metadata": {},
   "outputs": [],
   "source": [
    "data = pd.merge(data, data_proc, left_on='SP_PROCREA', right_on='IP_COD')"
   ]
  },
  {
   "cell_type": "code",
   "execution_count": 13,
   "metadata": {},
   "outputs": [],
   "source": [
    "data = pd.merge(data, data_cnes, left_on='SP_CNES',right_on='CNES')"
   ]
  },
  {
   "cell_type": "code",
   "execution_count": 23,
   "metadata": {},
   "outputs": [
    {
     "data": {
      "text/plain": [
       "SP_GESTOR       int64\n",
       "SP_UF           int64\n",
       "SP_AA           int64\n",
       "SP_MM           int64\n",
       "SP_CNES         int64\n",
       "SP_NAIH         int64\n",
       "SP_PROCREA      int64\n",
       "SP_DTINTER      int64\n",
       "SP_DTSAIDA      int64\n",
       "SP_NUM_PR     float64\n",
       "SP_TIPO       float64\n",
       "SP_CPFCGC       int64\n",
       "SP_ATOPROF      int64\n",
       "SP_TP_ATO     float64\n",
       "SP_QTD_ATO      int64\n",
       "SP_PTSP         int64\n",
       "SP_NF          object\n",
       "SP_VALATO     float64\n",
       "SP_M_HOSP       int64\n",
       "SP_M_PAC        int64\n",
       "SP_DES_HOS      int64\n",
       "SP_DES_PAC      int64\n",
       "SP_COMPLEX      int64\n",
       "SP_FINANC       int64\n",
       "SP_CO_FAEC    float64\n",
       "SP_PF_CBO      object\n",
       "SP_PF_DOC       int64\n",
       "SP_PJ_DOC       int64\n",
       "IN_TP_VAL       int64\n",
       "SEQUENCIA       int64\n",
       "REMESSA        object\n",
       "SERV_CLA        int64\n",
       "SP_CIDPRI      object\n",
       "SP_CIDSEC       int64\n",
       "SP_QT_PROC      int64\n",
       "SP_U_AIH        int64\n",
       "IP_COD          int64\n",
       "IP_DSCR        object\n",
       "COMPET          int64\n",
       "CNES            int64\n",
       "NOMEFANT       object\n",
       "UF_ZI           int64\n",
       "CMPT            int64\n",
       "dtype: object"
      ]
     },
     "execution_count": 23,
     "metadata": {},
     "output_type": "execute_result"
    }
   ],
   "source": [
    "data.dtypes"
   ]
  }
 ],
 "metadata": {
  "kernelspec": {
   "display_name": "Python 3",
   "language": "python",
   "name": "python3"
  },
  "language_info": {
   "codemirror_mode": {
    "name": "ipython",
    "version": 3
   },
   "file_extension": ".py",
   "mimetype": "text/x-python",
   "name": "python",
   "nbconvert_exporter": "python",
   "pygments_lexer": "ipython3",
   "version": "3.7.4"
  }
 },
 "nbformat": 4,
 "nbformat_minor": 2
}
